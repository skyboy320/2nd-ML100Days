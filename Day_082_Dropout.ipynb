{
 "cells": [
  {
   "cell_type": "markdown",
   "metadata": {},
   "source": [
    "## 範例重點\n",
    "* 知道如何在 keras 中加入 dropout\n",
    "* 了解 dropout 中 ratio 的意義與對訓練的影響"
   ]
  },
  {
   "cell_type": "code",
   "execution_count": 1,
   "metadata": {},
   "outputs": [
    {
     "name": "stderr",
     "output_type": "stream",
     "text": [
      "Using TensorFlow backend.\n"
     ]
    }
   ],
   "source": [
    "import os\n",
    "import keras\n",
    "\n",
    "# 本範例不需使用 GPU, 將 GPU 設定為 \"無\"\n",
    "os.environ[\"CUDA_VISIBLE_DEVICES\"] = \"\""
   ]
  },
  {
   "cell_type": "code",
   "execution_count": 2,
   "metadata": {},
   "outputs": [],
   "source": [
    "train, test = keras.datasets.cifar10.load_data()"
   ]
  },
  {
   "cell_type": "code",
   "execution_count": 3,
   "metadata": {},
   "outputs": [],
   "source": [
    "## 資料前處理\n",
    "def preproc_x(x, flatten=True):\n",
    "    x = x / 255.\n",
    "    if flatten:\n",
    "        x = x.reshape((len(x), -1))\n",
    "    return x\n",
    "\n",
    "def preproc_y(y, num_classes=10):\n",
    "    if y.shape[-1] == 1:\n",
    "        y = keras.utils.to_categorical(y, num_classes)\n",
    "    return y    "
   ]
  },
  {
   "cell_type": "code",
   "execution_count": 4,
   "metadata": {},
   "outputs": [],
   "source": [
    "x_train, y_train = train\n",
    "x_test, y_test = test\n",
    "\n",
    "# 資料前處理 - X 標準化\n",
    "x_train = preproc_x(x_train)\n",
    "x_test = preproc_x(x_test)\n",
    "\n",
    "# 資料前處理 -Y 轉成 onehot\n",
    "y_train = preproc_y(y_train)\n",
    "y_test = preproc_y(y_test)"
   ]
  },
  {
   "cell_type": "code",
   "execution_count": 5,
   "metadata": {},
   "outputs": [],
   "source": [
    "from keras.layers import Dropout\n",
    "\n",
    "\"\"\"\n",
    "建立神經網路，並加入 dropout layer\n",
    "\"\"\"\n",
    "def build_mlp(input_shape, output_units=10, num_neurons=[512, 256, 128], drp_ratio=0.2):\n",
    "    input_layer = keras.layers.Input(input_shape)\n",
    "    \n",
    "    for i, n_units in enumerate(num_neurons):\n",
    "        if i == 0:\n",
    "            x = keras.layers.Dense(units=n_units, \n",
    "                                   activation=\"relu\", \n",
    "                                   name=\"hidden_layer\"+str(i+1))(input_layer)\n",
    "            x = Dropout(drp_ratio)(x)\n",
    "        else:\n",
    "            x = keras.layers.Dense(units=n_units, \n",
    "                                   activation=\"relu\", \n",
    "                                   name=\"hidden_layer\"+str(i+1))(x)\n",
    "            x = Dropout(drp_ratio)(x)\n",
    "    \n",
    "    out = keras.layers.Dense(units=output_units, activation=\"softmax\", name=\"output\")(x)\n",
    "    \n",
    "    model = keras.models.Model(inputs=[input_layer], outputs=[out])\n",
    "    return model"
   ]
  },
  {
   "cell_type": "code",
   "execution_count": 6,
   "metadata": {},
   "outputs": [],
   "source": [
    "## 超參數設定\n",
    "LEARNING_RATE = 1e-3\n",
    "EPOCHS = 50\n",
    "BATCH_SIZE = 256\n",
    "MOMENTUM = 0.95\n",
    "Dropout_EXP = 0.25"
   ]
  },
  {
   "cell_type": "code",
   "execution_count": 7,
   "metadata": {
    "scrolled": true
   },
   "outputs": [
    {
     "name": "stderr",
     "output_type": "stream",
     "text": [
      "WARNING: Logging before flag parsing goes to stderr.\n",
      "W0811 14:01:15.184931 13432 deprecation_wrapper.py:119] From C:\\Users\\Trenton\\Anaconda3\\lib\\site-packages\\keras\\backend\\tensorflow_backend.py:74: The name tf.get_default_graph is deprecated. Please use tf.compat.v1.get_default_graph instead.\n",
      "\n",
      "W0811 14:01:15.211894 13432 deprecation_wrapper.py:119] From C:\\Users\\Trenton\\Anaconda3\\lib\\site-packages\\keras\\backend\\tensorflow_backend.py:517: The name tf.placeholder is deprecated. Please use tf.compat.v1.placeholder instead.\n",
      "\n",
      "W0811 14:01:15.214851 13432 deprecation_wrapper.py:119] From C:\\Users\\Trenton\\Anaconda3\\lib\\site-packages\\keras\\backend\\tensorflow_backend.py:4138: The name tf.random_uniform is deprecated. Please use tf.random.uniform instead.\n",
      "\n",
      "W0811 14:01:15.242779 13432 deprecation_wrapper.py:119] From C:\\Users\\Trenton\\Anaconda3\\lib\\site-packages\\keras\\backend\\tensorflow_backend.py:133: The name tf.placeholder_with_default is deprecated. Please use tf.compat.v1.placeholder_with_default instead.\n",
      "\n",
      "W0811 14:01:15.253784 13432 deprecation.py:506] From C:\\Users\\Trenton\\Anaconda3\\lib\\site-packages\\keras\\backend\\tensorflow_backend.py:3445: calling dropout (from tensorflow.python.ops.nn_ops) with keep_prob is deprecated and will be removed in a future version.\n",
      "Instructions for updating:\n",
      "Please use `rate` instead of `keep_prob`. Rate should be set to `rate = 1 - keep_prob`.\n",
      "W0811 14:01:15.340556 13432 deprecation_wrapper.py:119] From C:\\Users\\Trenton\\Anaconda3\\lib\\site-packages\\keras\\optimizers.py:790: The name tf.train.Optimizer is deprecated. Please use tf.compat.v1.train.Optimizer instead.\n",
      "\n",
      "W0811 14:01:15.345501 13432 deprecation_wrapper.py:119] From C:\\Users\\Trenton\\Anaconda3\\lib\\site-packages\\keras\\backend\\tensorflow_backend.py:3295: The name tf.log is deprecated. Please use tf.math.log instead.\n",
      "\n",
      "W0811 14:01:15.479179 13432 deprecation.py:323] From C:\\Users\\Trenton\\Anaconda3\\lib\\site-packages\\tensorflow\\python\\ops\\math_grad.py:1250: add_dispatch_support.<locals>.wrapper (from tensorflow.python.ops.array_ops) is deprecated and will be removed in a future version.\n",
      "Instructions for updating:\n",
      "Use tf.where in 2.0, which has the same broadcast rule as np.where\n"
     ]
    },
    {
     "name": "stdout",
     "output_type": "stream",
     "text": [
      "_________________________________________________________________\n",
      "Layer (type)                 Output Shape              Param #   \n",
      "=================================================================\n",
      "input_1 (InputLayer)         (None, 3072)              0         \n",
      "_________________________________________________________________\n",
      "hidden_layer1 (Dense)        (None, 512)               1573376   \n",
      "_________________________________________________________________\n",
      "dropout_1 (Dropout)          (None, 512)               0         \n",
      "_________________________________________________________________\n",
      "hidden_layer2 (Dense)        (None, 256)               131328    \n",
      "_________________________________________________________________\n",
      "dropout_2 (Dropout)          (None, 256)               0         \n",
      "_________________________________________________________________\n",
      "hidden_layer3 (Dense)        (None, 128)               32896     \n",
      "_________________________________________________________________\n",
      "dropout_3 (Dropout)          (None, 128)               0         \n",
      "_________________________________________________________________\n",
      "output (Dense)               (None, 10)                1290      \n",
      "=================================================================\n",
      "Total params: 1,738,890\n",
      "Trainable params: 1,738,890\n",
      "Non-trainable params: 0\n",
      "_________________________________________________________________\n",
      "Train on 50000 samples, validate on 10000 samples\n",
      "Epoch 1/50\n",
      "50000/50000 [==============================] - 7s 131us/step - loss: 2.2129 - acc: 0.1781 - val_loss: 2.0074 - val_acc: 0.2944\n",
      "Epoch 2/50\n",
      "50000/50000 [==============================] - 4s 74us/step - loss: 2.0026 - acc: 0.2675 - val_loss: 1.8711 - val_acc: 0.3419\n",
      "Epoch 3/50\n",
      "50000/50000 [==============================] - 4s 79us/step - loss: 1.9143 - acc: 0.3070 - val_loss: 1.8058 - val_acc: 0.3590\n",
      "Epoch 4/50\n",
      "50000/50000 [==============================] - 4s 73us/step - loss: 1.8632 - acc: 0.3278 - val_loss: 1.7598 - val_acc: 0.3795\n",
      "Epoch 5/50\n",
      "50000/50000 [==============================] - 4s 74us/step - loss: 1.8194 - acc: 0.3470 - val_loss: 1.7219 - val_acc: 0.3921\n",
      "Epoch 6/50\n",
      "50000/50000 [==============================] - 4s 75us/step - loss: 1.7839 - acc: 0.3610 - val_loss: 1.6854 - val_acc: 0.4059\n",
      "Epoch 7/50\n",
      "50000/50000 [==============================] - 4s 72us/step - loss: 1.7535 - acc: 0.3736 - val_loss: 1.6545 - val_acc: 0.4184\n",
      "Epoch 8/50\n",
      "50000/50000 [==============================] - 4s 73us/step - loss: 1.7285 - acc: 0.3821 - val_loss: 1.6227 - val_acc: 0.4300\n",
      "Epoch 9/50\n",
      "50000/50000 [==============================] - 4s 72us/step - loss: 1.7056 - acc: 0.3893 - val_loss: 1.6049 - val_acc: 0.4338\n",
      "Epoch 10/50\n",
      "50000/50000 [==============================] - 4s 73us/step - loss: 1.6813 - acc: 0.3988 - val_loss: 1.5870 - val_acc: 0.4410\n",
      "Epoch 11/50\n",
      "50000/50000 [==============================] - 4s 72us/step - loss: 1.6620 - acc: 0.4074 - val_loss: 1.5696 - val_acc: 0.4435\n",
      "Epoch 12/50\n",
      "50000/50000 [==============================] - 4s 72us/step - loss: 1.6454 - acc: 0.4123 - val_loss: 1.5537 - val_acc: 0.4537\n",
      "Epoch 13/50\n",
      "50000/50000 [==============================] - 4s 71us/step - loss: 1.6285 - acc: 0.4226 - val_loss: 1.5376 - val_acc: 0.4592\n",
      "Epoch 14/50\n",
      "50000/50000 [==============================] - 4s 75us/step - loss: 1.6117 - acc: 0.4277 - val_loss: 1.5247 - val_acc: 0.4574\n",
      "Epoch 15/50\n",
      "50000/50000 [==============================] - 4s 76us/step - loss: 1.5951 - acc: 0.4336 - val_loss: 1.5086 - val_acc: 0.4665\n",
      "Epoch 16/50\n",
      "50000/50000 [==============================] - 4s 73us/step - loss: 1.5850 - acc: 0.4349 - val_loss: 1.4982 - val_acc: 0.4731\n",
      "Epoch 17/50\n",
      "50000/50000 [==============================] - 4s 71us/step - loss: 1.5699 - acc: 0.4403 - val_loss: 1.4868 - val_acc: 0.4743\n",
      "Epoch 18/50\n",
      "50000/50000 [==============================] - 4s 81us/step - loss: 1.5569 - acc: 0.4470 - val_loss: 1.4781 - val_acc: 0.4725\n",
      "Epoch 19/50\n",
      "50000/50000 [==============================] - 4s 81us/step - loss: 1.5461 - acc: 0.4490 - val_loss: 1.4640 - val_acc: 0.4798\n",
      "Epoch 20/50\n",
      "50000/50000 [==============================] - 4s 76us/step - loss: 1.5285 - acc: 0.4553 - val_loss: 1.4557 - val_acc: 0.4862\n",
      "Epoch 21/50\n",
      "50000/50000 [==============================] - 4s 70us/step - loss: 1.5160 - acc: 0.4583 - val_loss: 1.4422 - val_acc: 0.4826\n",
      "Epoch 22/50\n",
      "50000/50000 [==============================] - 3s 68us/step - loss: 1.5071 - acc: 0.4635 - val_loss: 1.4328 - val_acc: 0.4905\n",
      "Epoch 23/50\n",
      "50000/50000 [==============================] - 4s 71us/step - loss: 1.4972 - acc: 0.4656 - val_loss: 1.4372 - val_acc: 0.4901\n",
      "Epoch 24/50\n",
      "50000/50000 [==============================] - 4s 75us/step - loss: 1.4876 - acc: 0.4657 - val_loss: 1.4181 - val_acc: 0.4927\n",
      "Epoch 25/50\n",
      "50000/50000 [==============================] - 4s 77us/step - loss: 1.4791 - acc: 0.4722 - val_loss: 1.4279 - val_acc: 0.4850\n",
      "Epoch 26/50\n",
      "50000/50000 [==============================] - 3s 69us/step - loss: 1.4644 - acc: 0.4781 - val_loss: 1.4087 - val_acc: 0.4962\n",
      "Epoch 27/50\n",
      "50000/50000 [==============================] - 3s 67us/step - loss: 1.4617 - acc: 0.4777 - val_loss: 1.4038 - val_acc: 0.4974\n",
      "Epoch 28/50\n",
      "50000/50000 [==============================] - 3s 69us/step - loss: 1.4493 - acc: 0.4840 - val_loss: 1.3957 - val_acc: 0.4971\n",
      "Epoch 29/50\n",
      "50000/50000 [==============================] - 3s 68us/step - loss: 1.4388 - acc: 0.4888 - val_loss: 1.3885 - val_acc: 0.5007\n",
      "Epoch 30/50\n",
      "50000/50000 [==============================] - 3s 68us/step - loss: 1.4316 - acc: 0.4903 - val_loss: 1.3953 - val_acc: 0.4977\n",
      "Epoch 31/50\n",
      "50000/50000 [==============================] - 3s 68us/step - loss: 1.4211 - acc: 0.4923 - val_loss: 1.3767 - val_acc: 0.5062\n",
      "Epoch 32/50\n",
      "50000/50000 [==============================] - 3s 68us/step - loss: 1.4130 - acc: 0.4956 - val_loss: 1.3797 - val_acc: 0.5063\n",
      "Epoch 33/50\n",
      "50000/50000 [==============================] - 3s 67us/step - loss: 1.4095 - acc: 0.4976 - val_loss: 1.3791 - val_acc: 0.5062\n",
      "Epoch 34/50\n",
      "50000/50000 [==============================] - 3s 69us/step - loss: 1.4006 - acc: 0.5016 - val_loss: 1.3729 - val_acc: 0.5047\n",
      "Epoch 35/50\n",
      "50000/50000 [==============================] - 3s 68us/step - loss: 1.3913 - acc: 0.5028 - val_loss: 1.3681 - val_acc: 0.5072\n",
      "Epoch 36/50\n",
      "50000/50000 [==============================] - 3s 67us/step - loss: 1.3856 - acc: 0.5051 - val_loss: 1.3549 - val_acc: 0.5151\n",
      "Epoch 37/50\n",
      "50000/50000 [==============================] - 3s 68us/step - loss: 1.3756 - acc: 0.5089 - val_loss: 1.3482 - val_acc: 0.5160\n",
      "Epoch 38/50\n",
      "50000/50000 [==============================] - 3s 69us/step - loss: 1.3705 - acc: 0.5091 - val_loss: 1.3579 - val_acc: 0.5088\n",
      "Epoch 39/50\n",
      "50000/50000 [==============================] - 3s 67us/step - loss: 1.3643 - acc: 0.5135 - val_loss: 1.3450 - val_acc: 0.5171\n",
      "Epoch 40/50\n",
      "50000/50000 [==============================] - 3s 67us/step - loss: 1.3563 - acc: 0.5152 - val_loss: 1.3494 - val_acc: 0.5166\n",
      "Epoch 41/50\n",
      "50000/50000 [==============================] - 3s 69us/step - loss: 1.3494 - acc: 0.5167 - val_loss: 1.3374 - val_acc: 0.5240\n",
      "Epoch 42/50\n",
      "50000/50000 [==============================] - 3s 67us/step - loss: 1.3444 - acc: 0.5188 - val_loss: 1.3382 - val_acc: 0.5216\n",
      "Epoch 43/50\n",
      "50000/50000 [==============================] - 3s 68us/step - loss: 1.3314 - acc: 0.5239 - val_loss: 1.3278 - val_acc: 0.5259\n",
      "Epoch 44/50\n",
      "50000/50000 [==============================] - 3s 69us/step - loss: 1.3278 - acc: 0.5254 - val_loss: 1.3256 - val_acc: 0.5273\n",
      "Epoch 45/50\n",
      "50000/50000 [==============================] - 4s 71us/step - loss: 1.3203 - acc: 0.5295 - val_loss: 1.3258 - val_acc: 0.5266\n",
      "Epoch 46/50\n",
      "50000/50000 [==============================] - 4s 71us/step - loss: 1.3160 - acc: 0.5303 - val_loss: 1.3257 - val_acc: 0.5223\n",
      "Epoch 47/50\n",
      "50000/50000 [==============================] - 4s 78us/step - loss: 1.3076 - acc: 0.5319 - val_loss: 1.3193 - val_acc: 0.5309\n",
      "Epoch 48/50\n",
      "50000/50000 [==============================] - 4s 71us/step - loss: 1.3013 - acc: 0.5332 - val_loss: 1.3212 - val_acc: 0.5285\n",
      "Epoch 49/50\n",
      "50000/50000 [==============================] - 4s 70us/step - loss: 1.3023 - acc: 0.5349 - val_loss: 1.3134 - val_acc: 0.5282\n"
     ]
    },
    {
     "name": "stdout",
     "output_type": "stream",
     "text": [
      "Epoch 50/50\n",
      "50000/50000 [==============================] - 4s 74us/step - loss: 1.2899 - acc: 0.5398 - val_loss: 1.3165 - val_acc: 0.5289\n"
     ]
    }
   ],
   "source": [
    "\n",
    "\n",
    "model = build_mlp(input_shape=x_train.shape[1:], drp_ratio=Dropout_EXP)\n",
    "model.summary()\n",
    "optimizer = keras.optimizers.SGD(lr=LEARNING_RATE, nesterov=True, momentum=MOMENTUM)\n",
    "model.compile(loss=\"categorical_crossentropy\", metrics=[\"accuracy\"], optimizer=optimizer)\n",
    "\n",
    "model.fit(x_train, y_train, \n",
    "          epochs=EPOCHS, \n",
    "          batch_size=BATCH_SIZE, \n",
    "          validation_data=(x_test, y_test), \n",
    "          shuffle=True)\n",
    "\n",
    "# Collect results\n",
    "train_loss = model.history.history[\"loss\"]\n",
    "valid_loss = model.history.history[\"val_loss\"]\n",
    "train_acc = model.history.history[\"acc\"]\n",
    "valid_acc = model.history.history[\"val_acc\"]"
   ]
  },
  {
   "cell_type": "code",
   "execution_count": 8,
   "metadata": {},
   "outputs": [
    {
     "data": {
      "image/png": "[encoded data removed]",
      "text/plain": [
       "<Figure size 432x288 with 1 Axes>"
      ]
     },
     "metadata": {
      "needs_background": "light"
     },
     "output_type": "display_data"
    },
    {
     "data": {
      "image/png": "[encoded data removed]",
      "text/plain": [
       "<Figure size 432x288 with 1 Axes>"
      ]
     },
     "metadata": {
      "needs_background": "light"
     },
     "output_type": "display_data"
    }
   ],
   "source": [
    "import matplotlib.pyplot as plt\n",
    "%matplotlib inline\n",
    "\n",
    "plt.plot(range(len(train_loss)), train_loss, label=\"train loss\")\n",
    "plt.plot(range(len(valid_loss)), valid_loss, label=\"valid loss\")\n",
    "plt.legend()\n",
    "plt.title(\"Loss\")\n",
    "plt.show()\n",
    "\n",
    "plt.plot(range(len(train_acc)), train_acc, label=\"train accuracy\")\n",
    "plt.plot(range(len(valid_acc)), valid_acc, label=\"valid accuracy\")\n",
    "plt.legend()\n",
    "plt.title(\"Accuracy\")\n",
    "plt.show()"
   ]
  },
  {
   "cell_type": "markdown",
   "metadata": {},
   "source": [
    "## Work\n",
    "1. 請比較使用不同層數以及不同 Dropout rate 對訓練的效果\n",
    "2. 將 optimizer 改成使用 Adam 並加上適當的 dropout rate 檢視結果"
   ]
  }
 ],
 "metadata": {
  "kernelspec": {
   "display_name": "Python 3",
   "language": "python",
   "name": "python3"
  },
  "language_info": {
   "codemirror_mode": {
    "name": "ipython",
    "version": 3
   },
   "file_extension": ".py",
   "mimetype": "text/x-python",
   "name": "python",
   "nbconvert_exporter": "python",
   "pygments_lexer": "ipython3",
   "version": "3.7.3"
  }
 },
 "nbformat": 4,
 "nbformat_minor": 2
}

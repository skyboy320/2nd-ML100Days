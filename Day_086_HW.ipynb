{
 "cells": [
  {
   "cell_type": "markdown",
   "metadata": {},
   "source": [
    "## Work\n",
    "1. 試比較 save_best_only 與否的差異\n",
    "2. 請僅存入將 save_weights_only 設定為 True, 並嘗試 reset ipynb 並將模型與權重重新建回並預測 x_test"
   ]
  },
  {
   "cell_type": "code",
   "execution_count": 1,
   "metadata": {},
   "outputs": [
    {
     "name": "stderr",
     "output_type": "stream",
     "text": [
      "Using TensorFlow backend.\n"
     ]
    }
   ],
   "source": [
    "import os\n",
    "import keras\n",
    "\n",
    "# Disable GPU\n",
    "os.environ[\"CUDA_VISIBLE_DEVICES\"] = \"\""
   ]
  },
  {
   "cell_type": "code",
   "execution_count": 2,
   "metadata": {},
   "outputs": [],
   "source": [
    "train, test = keras.datasets.cifar10.load_data()"
   ]
  },
  {
   "cell_type": "code",
   "execution_count": 3,
   "metadata": {},
   "outputs": [],
   "source": [
    "## 資料前處理\n",
    "def preproc_x(x, flatten=True):\n",
    "    x = x / 255.\n",
    "    if flatten:\n",
    "        x = x.reshape((len(x), -1))\n",
    "    return x\n",
    "\n",
    "def preproc_y(y, num_classes=10):\n",
    "    if y.shape[-1] == 1:\n",
    "        y = keras.utils.to_categorical(y, num_classes)\n",
    "    return y    "
   ]
  },
  {
   "cell_type": "code",
   "execution_count": 4,
   "metadata": {},
   "outputs": [],
   "source": [
    "x_train, y_train = train\n",
    "x_test, y_test = test\n",
    "\n",
    "# Preproc the inputs\n",
    "x_train = preproc_x(x_train)\n",
    "x_test = preproc_x(x_test)\n",
    "\n",
    "# Preprc the outputs\n",
    "y_train = preproc_y(y_train)\n",
    "y_test = preproc_y(y_test)"
   ]
  },
  {
   "cell_type": "code",
   "execution_count": 5,
   "metadata": {},
   "outputs": [],
   "source": [
    "from keras.layers import BatchNormalization\n",
    "\n",
    "\"\"\"\n",
    "建立神經網路，並加入 BN layer\n",
    "\"\"\"\n",
    "def build_mlp(input_shape, output_units=10, num_neurons=[512, 256, 128]):\n",
    "    input_layer = keras.layers.Input(input_shape)\n",
    "    \n",
    "    for i, n_units in enumerate(num_neurons):\n",
    "        if i == 0:\n",
    "            x = keras.layers.Dense(units=n_units, \n",
    "                                   activation=\"relu\", \n",
    "                                   name=\"hidden_layer\"+str(i+1))(input_layer)\n",
    "            x = BatchNormalization()(x)\n",
    "        else:\n",
    "            x = keras.layers.Dense(units=n_units, \n",
    "                                   activation=\"relu\", \n",
    "                                   name=\"hidden_layer\"+str(i+1))(x)\n",
    "            x = BatchNormalization()(x)\n",
    "    \n",
    "    out = keras.layers.Dense(units=output_units, activation=\"softmax\", name=\"output\")(x)\n",
    "    \n",
    "    model = keras.models.Model(inputs=[input_layer], outputs=[out])\n",
    "    return model"
   ]
  },
  {
   "cell_type": "code",
   "execution_count": 6,
   "metadata": {},
   "outputs": [],
   "source": [
    "\"\"\"Code Here\n",
    "設定超參數\n",
    "\"\"\"\n",
    "LEARNING_RATE = 1e-3\n",
    "EPOCHS = 50\n",
    "BATCH_SIZE = 1024\n",
    "MOMENTUM = 0.95"
   ]
  },
  {
   "cell_type": "code",
   "execution_count": 7,
   "metadata": {},
   "outputs": [],
   "source": [
    "# 載入 Callbacks\n",
    "\"\"\"Code Here\n",
    "設定 callbacks: model checkpoint\n",
    "\"\"\"\n",
    "from keras.callbacks import ModelCheckpoint\n",
    "\n",
    "model_ckpt = ModelCheckpoint(filepath=\"./tmp.h5\", \n",
    "                             monitor=\"val_loss\", \n",
    "                             save_best_only=True)\n"
   ]
  },
  {
   "cell_type": "code",
   "execution_count": 11,
   "metadata": {},
   "outputs": [
    {
     "name": "stdout",
     "output_type": "stream",
     "text": [
      "_________________________________________________________________\n",
      "Layer (type)                 Output Shape              Param #   \n",
      "=================================================================\n",
      "input_2 (InputLayer)         (None, 3072)              0         \n",
      "_________________________________________________________________\n",
      "hidden_layer1 (Dense)        (None, 512)               1573376   \n",
      "_________________________________________________________________\n",
      "batch_normalization_4 (Batch (None, 512)               2048      \n",
      "_________________________________________________________________\n",
      "hidden_layer2 (Dense)        (None, 256)               131328    \n",
      "_________________________________________________________________\n",
      "batch_normalization_5 (Batch (None, 256)               1024      \n",
      "_________________________________________________________________\n",
      "hidden_layer3 (Dense)        (None, 128)               32896     \n",
      "_________________________________________________________________\n",
      "batch_normalization_6 (Batch (None, 128)               512       \n",
      "_________________________________________________________________\n",
      "output (Dense)               (None, 10)                1290      \n",
      "=================================================================\n",
      "Total params: 1,742,474\n",
      "Trainable params: 1,740,682\n",
      "Non-trainable params: 1,792\n",
      "_________________________________________________________________\n",
      "Train on 50000 samples, validate on 10000 samples\n",
      "Epoch 1/50\n",
      "50000/50000 [==============================] - 4s 77us/step - loss: 2.2559 - acc: 0.2712 - val_loss: 2.1126 - val_acc: 0.3110\n",
      "Epoch 2/50\n",
      "50000/50000 [==============================] - 3s 55us/step - loss: 1.7512 - acc: 0.3970 - val_loss: 1.7713 - val_acc: 0.3956\n",
      "Epoch 3/50\n",
      "50000/50000 [==============================] - 3s 54us/step - loss: 1.6218 - acc: 0.4364 - val_loss: 1.6857 - val_acc: 0.4186\n",
      "Epoch 4/50\n",
      "50000/50000 [==============================] - 3s 58us/step - loss: 1.5469 - acc: 0.4641 - val_loss: 1.6198 - val_acc: 0.4384\n",
      "Epoch 5/50\n",
      "50000/50000 [==============================] - 3s 55us/step - loss: 1.4911 - acc: 0.4813 - val_loss: 1.5843 - val_acc: 0.4510\n",
      "Epoch 6/50\n",
      "50000/50000 [==============================] - 3s 56us/step - loss: 1.4430 - acc: 0.4976 - val_loss: 1.5641 - val_acc: 0.4532\n",
      "Epoch 7/50\n",
      "50000/50000 [==============================] - 3s 57us/step - loss: 1.4047 - acc: 0.5132 - val_loss: 1.5333 - val_acc: 0.4663\n",
      "Epoch 8/50\n",
      "50000/50000 [==============================] - 3s 58us/step - loss: 1.3693 - acc: 0.5242 - val_loss: 1.5230 - val_acc: 0.4677\n",
      "Epoch 9/50\n",
      "50000/50000 [==============================] - 3s 61us/step - loss: 1.3369 - acc: 0.5361 - val_loss: 1.5138 - val_acc: 0.4729\n",
      "Epoch 10/50\n",
      "50000/50000 [==============================] - 3s 55us/step - loss: 1.3082 - acc: 0.5467 - val_loss: 1.5133 - val_acc: 0.4665\n",
      "Epoch 11/50\n",
      "50000/50000 [==============================] - 3s 54us/step - loss: 1.2816 - acc: 0.5565 - val_loss: 1.4976 - val_acc: 0.4728\n",
      "Epoch 12/50\n",
      "50000/50000 [==============================] - 3s 54us/step - loss: 1.2540 - acc: 0.5658 - val_loss: 1.4876 - val_acc: 0.4778\n",
      "Epoch 13/50\n",
      "50000/50000 [==============================] - 3s 54us/step - loss: 1.2280 - acc: 0.5756 - val_loss: 1.4873 - val_acc: 0.4784\n",
      "Epoch 14/50\n",
      "50000/50000 [==============================] - 3s 58us/step - loss: 1.2025 - acc: 0.5863 - val_loss: 1.4761 - val_acc: 0.4846\n",
      "Epoch 15/50\n",
      "50000/50000 [==============================] - 3s 58us/step - loss: 1.1802 - acc: 0.5945 - val_loss: 1.4802 - val_acc: 0.4828\n",
      "Epoch 16/50\n",
      "50000/50000 [==============================] - 3s 57us/step - loss: 1.1555 - acc: 0.6031 - val_loss: 1.4721 - val_acc: 0.4832\n",
      "Epoch 17/50\n",
      "50000/50000 [==============================] - 3s 58us/step - loss: 1.1326 - acc: 0.6135 - val_loss: 1.4796 - val_acc: 0.4854\n",
      "Epoch 18/50\n",
      "50000/50000 [==============================] - 3s 55us/step - loss: 1.1093 - acc: 0.6210 - val_loss: 1.4756 - val_acc: 0.4817\n",
      "Epoch 19/50\n",
      "50000/50000 [==============================] - 3s 62us/step - loss: 1.0882 - acc: 0.6286 - val_loss: 1.4587 - val_acc: 0.4914\n",
      "Epoch 20/50\n",
      "50000/50000 [==============================] - 3s 57us/step - loss: 1.0665 - acc: 0.6366 - val_loss: 1.4674 - val_acc: 0.4872\n",
      "Epoch 21/50\n",
      "50000/50000 [==============================] - 3s 61us/step - loss: 1.0448 - acc: 0.6455 - val_loss: 1.4703 - val_acc: 0.4895\n",
      "Epoch 22/50\n",
      "50000/50000 [==============================] - 3s 63us/step - loss: 1.0252 - acc: 0.6529 - val_loss: 1.4694 - val_acc: 0.4917\n",
      "Epoch 23/50\n",
      "50000/50000 [==============================] - 3s 59us/step - loss: 1.0040 - acc: 0.6596 - val_loss: 1.4608 - val_acc: 0.4972\n",
      "Epoch 24/50\n",
      "50000/50000 [==============================] - 3s 56us/step - loss: 0.9827 - acc: 0.6678 - val_loss: 1.4668 - val_acc: 0.4952\n",
      "Epoch 25/50\n",
      "50000/50000 [==============================] - 3s 55us/step - loss: 0.9634 - acc: 0.6751 - val_loss: 1.4626 - val_acc: 0.4986\n",
      "Epoch 26/50\n",
      "50000/50000 [==============================] - 3s 54us/step - loss: 0.9413 - acc: 0.6837 - val_loss: 1.4778 - val_acc: 0.4937\n",
      "Epoch 27/50\n",
      "50000/50000 [==============================] - 3s 58us/step - loss: 0.9204 - acc: 0.6941 - val_loss: 1.4684 - val_acc: 0.4996\n",
      "Epoch 28/50\n",
      "50000/50000 [==============================] - 3s 58us/step - loss: 0.9028 - acc: 0.6984 - val_loss: 1.4839 - val_acc: 0.4910\n",
      "Epoch 29/50\n",
      "50000/50000 [==============================] - 3s 60us/step - loss: 0.8827 - acc: 0.7068 - val_loss: 1.4815 - val_acc: 0.4892\n",
      "Epoch 30/50\n",
      "50000/50000 [==============================] - 3s 55us/step - loss: 0.8615 - acc: 0.7163 - val_loss: 1.4876 - val_acc: 0.5013\n",
      "Epoch 31/50\n",
      "50000/50000 [==============================] - 3s 57us/step - loss: 0.8412 - acc: 0.7236 - val_loss: 1.4773 - val_acc: 0.5024\n",
      "Epoch 32/50\n",
      "50000/50000 [==============================] - 3s 59us/step - loss: 0.8220 - acc: 0.7308 - val_loss: 1.5040 - val_acc: 0.4933\n",
      "Epoch 33/50\n",
      "50000/50000 [==============================] - 3s 59us/step - loss: 0.8038 - acc: 0.7376 - val_loss: 1.5128 - val_acc: 0.4903\n",
      "Epoch 34/50\n",
      "50000/50000 [==============================] - 3s 61us/step - loss: 0.7850 - acc: 0.7450 - val_loss: 1.5235 - val_acc: 0.4939\n",
      "Epoch 35/50\n",
      "50000/50000 [==============================] - 3s 58us/step - loss: 0.7637 - acc: 0.7548 - val_loss: 1.5048 - val_acc: 0.4975\n",
      "Epoch 36/50\n",
      "50000/50000 [==============================] - 3s 55us/step - loss: 0.7453 - acc: 0.7610 - val_loss: 1.5380 - val_acc: 0.4944\n",
      "Epoch 37/50\n",
      "50000/50000 [==============================] - 3s 59us/step - loss: 0.7265 - acc: 0.7693 - val_loss: 1.5361 - val_acc: 0.4955\n",
      "Epoch 38/50\n",
      "50000/50000 [==============================] - 3s 60us/step - loss: 0.7078 - acc: 0.7776 - val_loss: 1.5444 - val_acc: 0.4939\n",
      "Epoch 39/50\n",
      "50000/50000 [==============================] - 3s 60us/step - loss: 0.6890 - acc: 0.7851 - val_loss: 1.5511 - val_acc: 0.4951\n",
      "Epoch 40/50\n",
      "50000/50000 [==============================] - 3s 66us/step - loss: 0.6706 - acc: 0.7926 - val_loss: 1.5628 - val_acc: 0.4916\n",
      "Epoch 41/50\n",
      "50000/50000 [==============================] - 3s 59us/step - loss: 0.6526 - acc: 0.7998 - val_loss: 1.5736 - val_acc: 0.4966\n",
      "Epoch 42/50\n",
      "50000/50000 [==============================] - 3s 57us/step - loss: 0.6325 - acc: 0.8059 - val_loss: 1.5968 - val_acc: 0.4967\n",
      "Epoch 43/50\n",
      "50000/50000 [==============================] - 3s 66us/step - loss: 0.6149 - acc: 0.8143 - val_loss: 1.6065 - val_acc: 0.4925\n",
      "Epoch 44/50\n",
      "50000/50000 [==============================] - 3s 66us/step - loss: 0.5989 - acc: 0.8215 - val_loss: 1.6120 - val_acc: 0.4953\n",
      "Epoch 45/50\n",
      "50000/50000 [==============================] - 3s 55us/step - loss: 0.5804 - acc: 0.8290 - val_loss: 1.6032 - val_acc: 0.4961\n",
      "Epoch 46/50\n",
      "50000/50000 [==============================] - 3s 55us/step - loss: 0.5640 - acc: 0.8332 - val_loss: 1.6321 - val_acc: 0.4944\n",
      "Epoch 47/50\n",
      "50000/50000 [==============================] - 3s 54us/step - loss: 0.5463 - acc: 0.8414 - val_loss: 1.6451 - val_acc: 0.4902\n",
      "Epoch 48/50\n",
      "50000/50000 [==============================] - 3s 56us/step - loss: 0.5289 - acc: 0.8478 - val_loss: 1.6445 - val_acc: 0.4925\n",
      "Epoch 49/50\n",
      "50000/50000 [==============================] - 4s 77us/step - loss: 0.5125 - acc: 0.8542 - val_loss: 1.6696 - val_acc: 0.4870\n"
     ]
    },
    {
     "name": "stdout",
     "output_type": "stream",
     "text": [
      "Epoch 50/50\n",
      "50000/50000 [==============================] - 3s 67us/step - loss: 0.4981 - acc: 0.8602 - val_loss: 1.6713 - val_acc: 0.4959\n",
      "10000/10000 [==============================] - 1s 90us/step\n"
     ]
    }
   ],
   "source": [
    "model = build_mlp(input_shape=x_train.shape[1:])\n",
    "model.summary()\n",
    "optimizer = keras.optimizers.SGD(lr=LEARNING_RATE, nesterov=True, momentum=MOMENTUM)\n",
    "model.compile(loss=\"categorical_crossentropy\", metrics=[\"accuracy\"], optimizer=optimizer)\n",
    "\n",
    "model.fit(x_train, y_train, \n",
    "          epochs=EPOCHS, \n",
    "          batch_size=BATCH_SIZE, \n",
    "          validation_data=(x_test, y_test), \n",
    "          shuffle=True,\n",
    "          callbacks=[model_ckpt]\n",
    "         )\n",
    "#model.save(\"final_model.h5\")\n",
    "#model.save_weights(\"model_weights.h5\")\n",
    "\n",
    "# Collect results\n",
    "train_loss = model.history.history[\"loss\"]\n",
    "valid_loss = model.history.history[\"val_loss\"]\n",
    "train_acc = model.history.history[\"acc\"]\n",
    "valid_acc = model.history.history[\"val_acc\"]\n",
    "\n",
    "\n",
    "# Load back\n",
    "model = keras.models.load_model(\"./tmp.h5\")\n",
    "loss_loadback, acc_loadback = model.evaluate(x_test, y_test)"
   ]
  },
  {
   "cell_type": "code",
   "execution_count": 12,
   "metadata": {
    "scrolled": true
   },
   "outputs": [
    {
     "data": {
      "image/png": "[encoded data removed]",
      "text/plain": [
       "<Figure size 432x288 with 1 Axes>"
      ]
     },
     "metadata": {
      "needs_background": "light"
     },
     "output_type": "display_data"
    },
    {
     "data": {
      "image/png": "[encoded data removed]",
      "text/plain": [
       "<Figure size 432x288 with 1 Axes>"
      ]
     },
     "metadata": {
      "needs_background": "light"
     },
     "output_type": "display_data"
    }
   ],
   "source": [
    "import matplotlib.pyplot as plt\n",
    "%matplotlib inline\n",
    "\"\"\"Code Here\n",
    "將結果繪出\n",
    "\"\"\"\n",
    "\n",
    "plt.plot(range(len(train_loss)), train_loss, label=\"train loss\")\n",
    "plt.plot(range(len(valid_loss)), valid_loss, label=\"valid loss\")\n",
    "plt.hlines(y=loss_loadback, xmin=0, xmax=len(train_loss), colors='r', linestyles='--')\n",
    "plt.legend()\n",
    "plt.title(\"Loss\")\n",
    "plt.show()\n",
    "\n",
    "plt.plot(range(len(train_acc)), train_acc, label=\"train accuracy\")\n",
    "plt.plot(range(len(valid_acc)), valid_acc, label=\"valid accuracy\")\n",
    "plt.hlines(y=acc_loadback, xmin=0, xmax=len(train_loss), colors='r', linestyles='--')\n",
    "plt.legend()\n",
    "plt.title(\"Accuracy\")\n",
    "plt.show()"
   ]
  },
  {
   "cell_type": "code",
   "execution_count": null,
   "metadata": {},
   "outputs": [],
   "source": []
  }
 ],
 "metadata": {
  "kernelspec": {
   "display_name": "Python 3",
   "language": "python",
   "name": "python3"
  },
  "language_info": {
   "codemirror_mode": {
    "name": "ipython",
    "version": 3
   },
   "file_extension": ".py",
   "mimetype": "text/x-python",
   "name": "python",
   "nbconvert_exporter": "python",
   "pygments_lexer": "ipython3",
   "version": "3.7.3"
  }
 },
 "nbformat": 4,
 "nbformat_minor": 2
}

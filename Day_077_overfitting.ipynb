{
 "cells": [
  {
   "cell_type": "markdown",
   "metadata": {},
   "source": [
    "## 範例重點\n",
    "* 學會從 Keras 內建函式取得資料\n",
    "* 能夠建立簡易的深度學習模型\n",
    "* 觀察並了解 Overfit 現象"
   ]
  },
  {
   "cell_type": "code",
   "execution_count": 1,
   "metadata": {},
   "outputs": [
    {
     "name": "stderr",
     "output_type": "stream",
     "text": [
      "Using TensorFlow backend.\n"
     ]
    }
   ],
   "source": [
    "import os\n",
    "import keras\n",
    "\n",
    "# 本範例不需使用 GPU, 將 GPU 設定為 \"無\"\n",
    "os.environ[\"CUDA_VISIBLE_DEVICES\"] = \"\""
   ]
  },
  {
   "cell_type": "code",
   "execution_count": 2,
   "metadata": {},
   "outputs": [],
   "source": [
    "# 從 Keras 的內建功能中，取得 train 與 test 資料集\n",
    "train, test = keras.datasets.cifar10.load_data()"
   ]
  },
  {
   "cell_type": "code",
   "execution_count": 3,
   "metadata": {},
   "outputs": [],
   "source": [
    "# 將 X 與 Y 獨立放進變數\n",
    "x_train, y_train = train\n",
    "x_test, y_test = test\n",
    "# 資料前處理 - 標準化\n",
    "x_train = x_train / 255.\n",
    "x_test = x_test / 255.\n",
    "\n",
    "# 將資料從圖形 (RGB) 轉為向量 (Single Vector)\n",
    "x_train = x_train.reshape((len(x_train), -1))\n",
    "x_test = x_test.reshape((len(x_test), -1))\n",
    "\n",
    "# 將目標轉為 one-hot encoding\n",
    "y_train = keras.utils.to_categorical(y_train, num_classes=10)\n",
    "y_test = keras.utils.to_categorical(y_test, num_classes=10)"
   ]
  },
  {
   "cell_type": "code",
   "execution_count": 4,
   "metadata": {},
   "outputs": [],
   "source": [
    "# 建立一個有三層隱藏層之神經網路\n",
    "def build_mlp():\n",
    "    input_layer = keras.layers.Input([x_train.shape[-1]])\n",
    "    x = keras.layers.Dense(units=512, activation=\"relu\")(input_layer)\n",
    "    x = keras.layers.Dense(units=256, activation=\"relu\")(x)\n",
    "    x = keras.layers.Dense(units=128, activation=\"relu\")(x)\n",
    "    out = keras.layers.Dense(units=10, activation=\"softmax\")(x)\n",
    "    \n",
    "    model = keras.models.Model(inputs=[input_layer], outputs=[out])\n",
    "    return model"
   ]
  },
  {
   "cell_type": "code",
   "execution_count": 5,
   "metadata": {},
   "outputs": [
    {
     "name": "stderr",
     "output_type": "stream",
     "text": [
      "WARNING: Logging before flag parsing goes to stderr.\n",
      "W0811 11:10:05.508241  3012 deprecation_wrapper.py:119] From C:\\Users\\Trenton\\Anaconda3\\lib\\site-packages\\keras\\backend\\tensorflow_backend.py:74: The name tf.get_default_graph is deprecated. Please use tf.compat.v1.get_default_graph instead.\n",
      "\n",
      "W0811 11:10:05.543689  3012 deprecation_wrapper.py:119] From C:\\Users\\Trenton\\Anaconda3\\lib\\site-packages\\keras\\backend\\tensorflow_backend.py:517: The name tf.placeholder is deprecated. Please use tf.compat.v1.placeholder instead.\n",
      "\n",
      "W0811 11:10:05.552631  3012 deprecation_wrapper.py:119] From C:\\Users\\Trenton\\Anaconda3\\lib\\site-packages\\keras\\backend\\tensorflow_backend.py:4138: The name tf.random_uniform is deprecated. Please use tf.random.uniform instead.\n",
      "\n",
      "W0811 11:10:05.675903  3012 deprecation_wrapper.py:119] From C:\\Users\\Trenton\\Anaconda3\\lib\\site-packages\\keras\\optimizers.py:790: The name tf.train.Optimizer is deprecated. Please use tf.compat.v1.train.Optimizer instead.\n",
      "\n",
      "W0811 11:10:05.690893  3012 deprecation_wrapper.py:119] From C:\\Users\\Trenton\\Anaconda3\\lib\\site-packages\\keras\\backend\\tensorflow_backend.py:3295: The name tf.log is deprecated. Please use tf.math.log instead.\n",
      "\n"
     ]
    },
    {
     "name": "stdout",
     "output_type": "stream",
     "text": [
      "_________________________________________________________________\n",
      "Layer (type)                 Output Shape              Param #   \n",
      "=================================================================\n",
      "input_1 (InputLayer)         (None, 3072)              0         \n",
      "_________________________________________________________________\n",
      "dense_1 (Dense)              (None, 512)               1573376   \n",
      "_________________________________________________________________\n",
      "dense_2 (Dense)              (None, 256)               131328    \n",
      "_________________________________________________________________\n",
      "dense_3 (Dense)              (None, 128)               32896     \n",
      "_________________________________________________________________\n",
      "dense_4 (Dense)              (None, 10)                1290      \n",
      "=================================================================\n",
      "Total params: 1,738,890\n",
      "Trainable params: 1,738,890\n",
      "Non-trainable params: 0\n",
      "_________________________________________________________________\n"
     ]
    }
   ],
   "source": [
    "model = build_mlp()\n",
    "# 用 Keras 內建方法檢視模型各層參數量\n",
    "model.summary()\n",
    "\n",
    "optimizer = keras.optimizers.Adam(lr=0.001)\n",
    "model.compile(loss=\"categorical_crossentropy\", metrics=[\"accuracy\"], optimizer=optimizer)"
   ]
  },
  {
   "cell_type": "code",
   "execution_count": 6,
   "metadata": {},
   "outputs": [
    {
     "name": "stderr",
     "output_type": "stream",
     "text": [
      "W0811 11:10:10.032948  3012 deprecation.py:323] From C:\\Users\\Trenton\\Anaconda3\\lib\\site-packages\\tensorflow\\python\\ops\\math_grad.py:1250: add_dispatch_support.<locals>.wrapper (from tensorflow.python.ops.array_ops) is deprecated and will be removed in a future version.\n",
      "Instructions for updating:\n",
      "Use tf.where in 2.0, which has the same broadcast rule as np.where\n",
      "W0811 11:10:10.087834  3012 deprecation_wrapper.py:119] From C:\\Users\\Trenton\\Anaconda3\\lib\\site-packages\\keras\\backend\\tensorflow_backend.py:986: The name tf.assign_add is deprecated. Please use tf.compat.v1.assign_add instead.\n",
      "\n"
     ]
    },
    {
     "name": "stdout",
     "output_type": "stream",
     "text": [
      "Train on 50000 samples, validate on 10000 samples\n",
      "Epoch 1/100\n",
      "50000/50000 [==============================] - 16s 318us/step - loss: 1.9395 - acc: 0.2966 - val_loss: 1.7875 - val_acc: 0.3566\n",
      "Epoch 2/100\n",
      "50000/50000 [==============================] - 8s 167us/step - loss: 1.7124 - acc: 0.3879 - val_loss: 1.6814 - val_acc: 0.3953\n",
      "Epoch 3/100\n",
      "50000/50000 [==============================] - 7s 147us/step - loss: 1.6200 - acc: 0.4228 - val_loss: 1.5839 - val_acc: 0.4318\n",
      "Epoch 4/100\n",
      "50000/50000 [==============================] - 7s 143us/step - loss: 1.5608 - acc: 0.4451 - val_loss: 1.5929 - val_acc: 0.4323\n",
      "Epoch 5/100\n",
      "50000/50000 [==============================] - 7s 140us/step - loss: 1.5141 - acc: 0.4607 - val_loss: 1.4876 - val_acc: 0.4739\n",
      "Epoch 6/100\n",
      "50000/50000 [==============================] - 8s 157us/step - loss: 1.4804 - acc: 0.4730 - val_loss: 1.4968 - val_acc: 0.4607\n",
      "Epoch 7/100\n",
      "50000/50000 [==============================] - 8s 155us/step - loss: 1.4453 - acc: 0.4851 - val_loss: 1.4950 - val_acc: 0.4642\n",
      "Epoch 8/100\n",
      "50000/50000 [==============================] - 8s 151us/step - loss: 1.4162 - acc: 0.4992 - val_loss: 1.4642 - val_acc: 0.4797\n",
      "Epoch 9/100\n",
      "50000/50000 [==============================] - 7s 142us/step - loss: 1.3882 - acc: 0.5066 - val_loss: 1.4629 - val_acc: 0.4767\n",
      "Epoch 10/100\n",
      "50000/50000 [==============================] - 7s 148us/step - loss: 1.3632 - acc: 0.5144 - val_loss: 1.4579 - val_acc: 0.4858\n",
      "Epoch 11/100\n",
      "50000/50000 [==============================] - 7s 137us/step - loss: 1.3400 - acc: 0.5216 - val_loss: 1.4469 - val_acc: 0.4872\n",
      "Epoch 12/100\n",
      "50000/50000 [==============================] - 7s 131us/step - loss: 1.3202 - acc: 0.5309 - val_loss: 1.4064 - val_acc: 0.5001\n",
      "Epoch 13/100\n",
      "50000/50000 [==============================] - 7s 141us/step - loss: 1.2869 - acc: 0.5418 - val_loss: 1.3954 - val_acc: 0.5082\n",
      "Epoch 14/100\n",
      "50000/50000 [==============================] - 7s 136us/step - loss: 1.2644 - acc: 0.5494 - val_loss: 1.3978 - val_acc: 0.5067\n",
      "Epoch 15/100\n",
      "50000/50000 [==============================] - 8s 153us/step - loss: 1.2484 - acc: 0.5556 - val_loss: 1.3616 - val_acc: 0.5166\n",
      "Epoch 16/100\n",
      "50000/50000 [==============================] - 8s 153us/step - loss: 1.2212 - acc: 0.5651 - val_loss: 1.3679 - val_acc: 0.5218\n",
      "Epoch 17/100\n",
      "50000/50000 [==============================] - 6s 129us/step - loss: 1.2057 - acc: 0.5725 - val_loss: 1.3990 - val_acc: 0.5083\n",
      "Epoch 18/100\n",
      "50000/50000 [==============================] - 6s 128us/step - loss: 1.1834 - acc: 0.5788 - val_loss: 1.3623 - val_acc: 0.5242\n",
      "Epoch 19/100\n",
      "50000/50000 [==============================] - 6s 117us/step - loss: 1.1611 - acc: 0.5867 - val_loss: 1.3652 - val_acc: 0.5181\n",
      "Epoch 20/100\n",
      "50000/50000 [==============================] - 7s 133us/step - loss: 1.1415 - acc: 0.5942 - val_loss: 1.3544 - val_acc: 0.5244\n",
      "Epoch 21/100\n",
      "50000/50000 [==============================] - 7s 145us/step - loss: 1.1286 - acc: 0.5981 - val_loss: 1.3609 - val_acc: 0.5250\n",
      "Epoch 22/100\n",
      "50000/50000 [==============================] - 6s 119us/step - loss: 1.1052 - acc: 0.6063 - val_loss: 1.3665 - val_acc: 0.5216\n",
      "Epoch 23/100\n",
      "50000/50000 [==============================] - 7s 139us/step - loss: 1.0931 - acc: 0.6124 - val_loss: 1.3981 - val_acc: 0.5246\n",
      "Epoch 24/100\n",
      "50000/50000 [==============================] - 7s 143us/step - loss: 1.0651 - acc: 0.6223 - val_loss: 1.3734 - val_acc: 0.5257\n",
      "Epoch 25/100\n",
      "50000/50000 [==============================] - 6s 130us/step - loss: 1.0391 - acc: 0.6317 - val_loss: 1.3816 - val_acc: 0.5311\n",
      "Epoch 26/100\n",
      "50000/50000 [==============================] - 7s 140us/step - loss: 1.0313 - acc: 0.6318 - val_loss: 1.3600 - val_acc: 0.5270\n",
      "Epoch 27/100\n",
      "50000/50000 [==============================] - 7s 147us/step - loss: 1.0093 - acc: 0.6385 - val_loss: 1.4091 - val_acc: 0.5236\n",
      "Epoch 28/100\n",
      "50000/50000 [==============================] - 8s 150us/step - loss: 1.0008 - acc: 0.6437 - val_loss: 1.3890 - val_acc: 0.5324\n",
      "Epoch 29/100\n",
      "50000/50000 [==============================] - 7s 138us/step - loss: 0.9786 - acc: 0.6506 - val_loss: 1.4151 - val_acc: 0.5227\n",
      "Epoch 30/100\n",
      "50000/50000 [==============================] - 7s 142us/step - loss: 0.9645 - acc: 0.6558 - val_loss: 1.4112 - val_acc: 0.5215\n",
      "Epoch 31/100\n",
      "50000/50000 [==============================] - 7s 141us/step - loss: 0.9484 - acc: 0.6617 - val_loss: 1.4217 - val_acc: 0.5314\n",
      "Epoch 32/100\n",
      "50000/50000 [==============================] - 7s 143us/step - loss: 0.9293 - acc: 0.6680 - val_loss: 1.4651 - val_acc: 0.5185\n",
      "Epoch 33/100\n",
      "50000/50000 [==============================] - 7s 136us/step - loss: 0.9118 - acc: 0.6738 - val_loss: 1.4847 - val_acc: 0.5250\n",
      "Epoch 34/100\n",
      "50000/50000 [==============================] - 7s 137us/step - loss: 0.8963 - acc: 0.6786 - val_loss: 1.4412 - val_acc: 0.5252\n",
      "Epoch 35/100\n",
      "50000/50000 [==============================] - 7s 146us/step - loss: 0.8763 - acc: 0.6884 - val_loss: 1.4924 - val_acc: 0.5195\n",
      "Epoch 36/100\n",
      "50000/50000 [==============================] - 7s 144us/step - loss: 0.8599 - acc: 0.6938 - val_loss: 1.4931 - val_acc: 0.5265\n",
      "Epoch 37/100\n",
      "50000/50000 [==============================] - 6s 114us/step - loss: 0.8469 - acc: 0.6983 - val_loss: 1.5069 - val_acc: 0.5159\n",
      "Epoch 38/100\n",
      "50000/50000 [==============================] - 6s 127us/step - loss: 0.8359 - acc: 0.7004 - val_loss: 1.5540 - val_acc: 0.5183\n",
      "Epoch 39/100\n",
      "50000/50000 [==============================] - 6s 127us/step - loss: 0.8027 - acc: 0.7136 - val_loss: 1.5709 - val_acc: 0.5216\n",
      "Epoch 40/100\n",
      "50000/50000 [==============================] - 7s 135us/step - loss: 0.7963 - acc: 0.7156 - val_loss: 1.5280 - val_acc: 0.5248: 0s - loss: 0.7937\n",
      "Epoch 41/100\n",
      "50000/50000 [==============================] - 7s 133us/step - loss: 0.7735 - acc: 0.7234 - val_loss: 1.5760 - val_acc: 0.5193\n",
      "Epoch 42/100\n",
      "50000/50000 [==============================] - 7s 134us/step - loss: 0.7700 - acc: 0.7252 - val_loss: 1.6024 - val_acc: 0.5224\n",
      "Epoch 43/100\n",
      "50000/50000 [==============================] - 7s 135us/step - loss: 0.7614 - acc: 0.7289 - val_loss: 1.5869 - val_acc: 0.5189\n",
      "Epoch 44/100\n",
      "50000/50000 [==============================] - 7s 142us/step - loss: 0.7426 - acc: 0.7332 - val_loss: 1.6218 - val_acc: 0.5179\n",
      "Epoch 45/100\n",
      "50000/50000 [==============================] - 7s 134us/step - loss: 0.7281 - acc: 0.7425 - val_loss: 1.6119 - val_acc: 0.5205\n",
      "Epoch 46/100\n",
      "50000/50000 [==============================] - 7s 135us/step - loss: 0.7062 - acc: 0.7473 - val_loss: 1.6249 - val_acc: 0.5291\n",
      "Epoch 47/100\n",
      "50000/50000 [==============================] - 7s 133us/step - loss: 0.6901 - acc: 0.7540 - val_loss: 1.6775 - val_acc: 0.5214\n",
      "Epoch 48/100\n",
      "50000/50000 [==============================] - 7s 131us/step - loss: 0.6874 - acc: 0.7525 - val_loss: 1.7228 - val_acc: 0.5147\n",
      "Epoch 49/100\n",
      "50000/50000 [==============================] - 7s 142us/step - loss: 0.6661 - acc: 0.7621 - val_loss: 1.7348 - val_acc: 0.5232\n",
      "Epoch 50/100\n",
      "50000/50000 [==============================] - 7s 142us/step - loss: 0.6665 - acc: 0.7607 - val_loss: 1.7263 - val_acc: 0.5221\n",
      "Epoch 51/100\n",
      "50000/50000 [==============================] - 7s 144us/step - loss: 0.6421 - acc: 0.7706 - val_loss: 1.7739 - val_acc: 0.5191\n",
      "Epoch 52/100\n",
      "50000/50000 [==============================] - 8s 154us/step - loss: 0.6382 - acc: 0.7701 - val_loss: 1.8156 - val_acc: 0.5140\n",
      "Epoch 53/100\n",
      "50000/50000 [==============================] - 7s 141us/step - loss: 0.6242 - acc: 0.7766 - val_loss: 1.8418 - val_acc: 0.5129\n",
      "Epoch 54/100\n",
      "50000/50000 [==============================] - 7s 141us/step - loss: 0.6029 - acc: 0.7849 - val_loss: 1.8343 - val_acc: 0.5203\n",
      "Epoch 55/100\n",
      "50000/50000 [==============================] - 7s 134us/step - loss: 0.5922 - acc: 0.7882 - val_loss: 1.8369 - val_acc: 0.5223\n",
      "Epoch 56/100\n",
      "50000/50000 [==============================] - 7s 141us/step - loss: 0.5860 - acc: 0.7887 - val_loss: 1.8669 - val_acc: 0.5145\n",
      "Epoch 57/100\n",
      "50000/50000 [==============================] - 7s 142us/step - loss: 0.5698 - acc: 0.7952 - val_loss: 1.9208 - val_acc: 0.5156\n",
      "Epoch 58/100\n",
      "50000/50000 [==============================] - 7s 133us/step - loss: 0.5702 - acc: 0.7947 - val_loss: 1.9239 - val_acc: 0.5140\n",
      "Epoch 59/100\n"
     ]
    },
    {
     "name": "stdout",
     "output_type": "stream",
     "text": [
      "50000/50000 [==============================] - 8s 156us/step - loss: 0.5529 - acc: 0.8020 - val_loss: 1.9279 - val_acc: 0.5119\n",
      "Epoch 60/100\n",
      "50000/50000 [==============================] - 8s 155us/step - loss: 0.5485 - acc: 0.8021 - val_loss: 2.0241 - val_acc: 0.5015\n",
      "Epoch 61/100\n",
      "50000/50000 [==============================] - 8s 153us/step - loss: 0.5492 - acc: 0.8035 - val_loss: 1.9535 - val_acc: 0.5123\n",
      "Epoch 62/100\n",
      "50000/50000 [==============================] - 8s 153us/step - loss: 0.5390 - acc: 0.8079 - val_loss: 1.9629 - val_acc: 0.5172\n",
      "Epoch 63/100\n",
      "50000/50000 [==============================] - 8s 152us/step - loss: 0.5192 - acc: 0.8128 - val_loss: 2.0675 - val_acc: 0.5125\n",
      "Epoch 64/100\n",
      "50000/50000 [==============================] - 8s 156us/step - loss: 0.5036 - acc: 0.8214 - val_loss: 2.1396 - val_acc: 0.5153\n",
      "Epoch 65/100\n",
      "50000/50000 [==============================] - 8s 155us/step - loss: 0.4947 - acc: 0.8238 - val_loss: 2.2069 - val_acc: 0.5045\n",
      "Epoch 66/100\n",
      "50000/50000 [==============================] - 7s 144us/step - loss: 0.4911 - acc: 0.8248 - val_loss: 2.1953 - val_acc: 0.5116\n",
      "Epoch 67/100\n",
      "50000/50000 [==============================] - 8s 157us/step - loss: 0.4806 - acc: 0.8275 - val_loss: 2.1848 - val_acc: 0.5081\n",
      "Epoch 68/100\n",
      "50000/50000 [==============================] - 7s 143us/step - loss: 0.4720 - acc: 0.8301 - val_loss: 2.1893 - val_acc: 0.5090\n",
      "Epoch 69/100\n",
      "50000/50000 [==============================] - 7s 138us/step - loss: 0.4627 - acc: 0.8340 - val_loss: 2.2055 - val_acc: 0.5125\n",
      "Epoch 70/100\n",
      "50000/50000 [==============================] - 8s 151us/step - loss: 0.4406 - acc: 0.8430 - val_loss: 2.1764 - val_acc: 0.5138\n",
      "Epoch 71/100\n",
      "50000/50000 [==============================] - 7s 140us/step - loss: 0.4545 - acc: 0.8376 - val_loss: 2.2835 - val_acc: 0.5154\n",
      "Epoch 72/100\n",
      "50000/50000 [==============================] - 8s 150us/step - loss: 0.4438 - acc: 0.8407 - val_loss: 2.2876 - val_acc: 0.5123\n",
      "Epoch 73/100\n",
      "50000/50000 [==============================] - 7s 148us/step - loss: 0.4238 - acc: 0.8486 - val_loss: 2.3278 - val_acc: 0.5037\n",
      "Epoch 74/100\n",
      "50000/50000 [==============================] - 8s 150us/step - loss: 0.4379 - acc: 0.8441 - val_loss: 2.3389 - val_acc: 0.5093\n",
      "Epoch 75/100\n",
      "50000/50000 [==============================] - 8s 158us/step - loss: 0.4235 - acc: 0.8464 - val_loss: 2.3254 - val_acc: 0.5091\n",
      "Epoch 76/100\n",
      "50000/50000 [==============================] - 8s 152us/step - loss: 0.4086 - acc: 0.8542 - val_loss: 2.3696 - val_acc: 0.5137\n",
      "Epoch 77/100\n",
      "50000/50000 [==============================] - 7s 148us/step - loss: 0.3982 - acc: 0.8577 - val_loss: 2.4650 - val_acc: 0.4971\n",
      "Epoch 78/100\n",
      "50000/50000 [==============================] - 8s 159us/step - loss: 0.4120 - acc: 0.8520 - val_loss: 2.3989 - val_acc: 0.5122\n",
      "Epoch 79/100\n",
      "50000/50000 [==============================] - 8s 150us/step - loss: 0.3966 - acc: 0.8566 - val_loss: 2.4692 - val_acc: 0.5117\n",
      "Epoch 80/100\n",
      "50000/50000 [==============================] - 7s 134us/step - loss: 0.3851 - acc: 0.8610 - val_loss: 2.4604 - val_acc: 0.5075\n",
      "Epoch 81/100\n",
      "50000/50000 [==============================] - 7s 149us/step - loss: 0.3716 - acc: 0.8672 - val_loss: 2.5554 - val_acc: 0.5103\n",
      "Epoch 82/100\n",
      "50000/50000 [==============================] - 8s 156us/step - loss: 0.3691 - acc: 0.8669 - val_loss: 2.5393 - val_acc: 0.5104\n",
      "Epoch 83/100\n",
      "50000/50000 [==============================] - 7s 148us/step - loss: 0.3832 - acc: 0.8632 - val_loss: 2.6183 - val_acc: 0.4989\n",
      "Epoch 84/100\n",
      "50000/50000 [==============================] - 8s 151us/step - loss: 0.3900 - acc: 0.8591 - val_loss: 2.5682 - val_acc: 0.5133\n",
      "Epoch 85/100\n",
      "50000/50000 [==============================] - 8s 152us/step - loss: 0.3501 - acc: 0.8741 - val_loss: 2.6220 - val_acc: 0.5041\n",
      "Epoch 86/100\n",
      "50000/50000 [==============================] - 8s 154us/step - loss: 0.3401 - acc: 0.8776 - val_loss: 2.7102 - val_acc: 0.5101\n",
      "Epoch 87/100\n",
      "50000/50000 [==============================] - 8s 157us/step - loss: 0.3344 - acc: 0.8820 - val_loss: 2.6810 - val_acc: 0.5093\n",
      "Epoch 88/100\n",
      "50000/50000 [==============================] - 7s 149us/step - loss: 0.3458 - acc: 0.8759 - val_loss: 2.7240 - val_acc: 0.5077\n",
      "Epoch 89/100\n",
      "50000/50000 [==============================] - 7s 142us/step - loss: 0.3253 - acc: 0.8836 - val_loss: 2.7222 - val_acc: 0.5045\n",
      "Epoch 90/100\n",
      "50000/50000 [==============================] - 7s 147us/step - loss: 0.3426 - acc: 0.8764 - val_loss: 2.7492 - val_acc: 0.5075\n",
      "Epoch 91/100\n",
      "50000/50000 [==============================] - 7s 146us/step - loss: 0.3651 - acc: 0.8673 - val_loss: 2.7975 - val_acc: 0.5084\n",
      "Epoch 92/100\n",
      "50000/50000 [==============================] - 7s 149us/step - loss: 0.3104 - acc: 0.8879 - val_loss: 2.7671 - val_acc: 0.5063\n",
      "Epoch 93/100\n",
      "50000/50000 [==============================] - 7s 138us/step - loss: 0.3113 - acc: 0.8881 - val_loss: 2.8537 - val_acc: 0.5093\n",
      "Epoch 94/100\n",
      "50000/50000 [==============================] - 7s 142us/step - loss: 0.3215 - acc: 0.8847 - val_loss: 2.8015 - val_acc: 0.5079\n",
      "Epoch 95/100\n",
      "50000/50000 [==============================] - 7s 148us/step - loss: 0.3127 - acc: 0.8875 - val_loss: 2.9682 - val_acc: 0.4933\n",
      "Epoch 96/100\n",
      "50000/50000 [==============================] - 7s 150us/step - loss: 0.3147 - acc: 0.8867 - val_loss: 2.9469 - val_acc: 0.5067\n",
      "Epoch 97/100\n",
      "50000/50000 [==============================] - 7s 144us/step - loss: 0.2953 - acc: 0.8944 - val_loss: 2.9274 - val_acc: 0.5118\n",
      "Epoch 98/100\n",
      "50000/50000 [==============================] - 7s 142us/step - loss: 0.3022 - acc: 0.8920 - val_loss: 2.8647 - val_acc: 0.5136\n",
      "Epoch 99/100\n",
      "50000/50000 [==============================] - 7s 146us/step - loss: 0.3033 - acc: 0.8916 - val_loss: 3.0223 - val_acc: 0.5017\n",
      "Epoch 100/100\n",
      "50000/50000 [==============================] - 7s 141us/step - loss: 0.3169 - acc: 0.8862 - val_loss: 2.9684 - val_acc: 0.5113\n"
     ]
    },
    {
     "data": {
      "text/plain": [
       "<keras.callbacks.History at 0x214cfc41e48>"
      ]
     },
     "execution_count": 6,
     "metadata": {},
     "output_type": "execute_result"
    }
   ],
   "source": [
    "# 訓練模型並檢視驗證集的結果\n",
    "model.fit(x_train, y_train, \n",
    "          epochs=100, \n",
    "          batch_size=256, \n",
    "          validation_data=(x_test, y_test), \n",
    "          shuffle=True)"
   ]
  },
  {
   "cell_type": "code",
   "execution_count": 8,
   "metadata": {},
   "outputs": [
    {
     "data": {
      "image/png": "[encoded data removed]",
      "text/plain": [
       "<Figure size 432x288 with 1 Axes>"
      ]
     },
     "metadata": {
      "needs_background": "light"
     },
     "output_type": "display_data"
    },
    {
     "data": {
      "image/png": "[encoded data removed]",
      "text/plain": [
       "<Figure size 432x288 with 1 Axes>"
      ]
     },
     "metadata": {
      "needs_background": "light"
     },
     "output_type": "display_data"
    }
   ],
   "source": [
    "# 以視覺畫方式檢視訓練過程\n",
    "import matplotlib.pyplot as plt\n",
    "train_loss = model.history.history[\"loss\"]\n",
    "valid_loss = model.history.history[\"val_loss\"]\n",
    "\n",
    "train_acc = model.history.history[\"acc\"]\n",
    "valid_acc = model.history.history[\"val_acc\"]\n",
    "\n",
    "plt.plot(range(len(train_loss)), train_loss, label=\"train loss\")\n",
    "plt.plot(range(len(valid_loss)), valid_loss, label=\"valid loss\")\n",
    "plt.legend()\n",
    "plt.title(\"Loss\")\n",
    "plt.show()\n",
    "\n",
    "plt.plot(range(len(train_acc)), train_acc, label=\"train accuracy\")\n",
    "plt.plot(range(len(valid_acc)), valid_acc, label=\"valid accuracy\")\n",
    "plt.legend()\n",
    "plt.title(\"Accuracy\")\n",
    "plt.show()"
   ]
  },
  {
   "cell_type": "markdown",
   "metadata": {},
   "source": [
    "## 作業\n",
    "1. 請將 Epoch 加到 500 個，並觀察 learning curve 的走勢\n",
    "2. 請將 Optimizer 換成 SGD，並觀察 learning curve 的走勢"
   ]
  }
 ],
 "metadata": {
  "kernelspec": {
   "display_name": "Python 3",
   "language": "python",
   "name": "python3"
  },
  "language_info": {
   "codemirror_mode": {
    "name": "ipython",
    "version": 3
   },
   "file_extension": ".py",
   "mimetype": "text/x-python",
   "name": "python",
   "nbconvert_exporter": "python",
   "pygments_lexer": "ipython3",
   "version": "3.7.3"
  }
 },
 "nbformat": 4,
 "nbformat_minor": 2
}

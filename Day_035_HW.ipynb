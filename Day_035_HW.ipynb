{
 "cells": [
  {
   "cell_type": "markdown",
   "metadata": {},
   "source": [
    "## 練習時間\n",
    "相信大家對回歸問題及分類問題都有初步的了解。今天的作業希望大家搜尋有關 multi-label 的案例問題。下圖是電影 \"奇異博士\" 的分類。可以看到同時有 \"Action\", \"Adventure\", \"Fantasy\" 的類別存在，代表這是個多標籤的問題。 "
   ]
  },
  {
   "cell_type": "markdown",
   "metadata": {},
   "source": [
    "![image](https://cdn-images-1.medium.com/max/1000/1*r0gYXMSQf5VhdMyl2bRDyg.png)"
   ]
  },
  {
   "cell_type": "markdown",
   "metadata": {},
   "source": [
    "## 請搜尋目標為多標籤問題 (Multi-label) 的機器學習案例，了解其資料來源、目標以及評估指標為何\n",
    "## Hint: 服飾\n",
    "\n",
    "Hint: 服飾¶\n",
    "https://www.kaggle.com/c/wise-2014 Kaggle 競賽\n",
    "\n",
    "這是一個針對來自希臘印刷媒體的文章的多標籤分類競賽。原始數據來自打印介質的掃描，文章分割和光學字符分割，因此非常複雜。每篇文章都由人類註釋器檢查，並分類為一個或多個受監控的主題。主題包括可以根據關鍵字輕鬆分類的特定人員，產品和公司，以及更一般的語義概念，例如環境或經濟。構建用於將文章自動註釋到主題中的多標籤分類器可以通過按相關性順序建議所有主題的列表來支持人類註釋器的工作，或甚至自動化更容易預測的媒體和/或類別的註釋過程。這節省了寶貴的時間，並允許媒體監控公司擴展被監控媒體的組合。\n",
    "\n",
    "目標為訓練出一個能夠預測文章Topic的模型\n",
    "\n",
    "評估指標是平均F1-Score"
   ]
  },
  {
   "cell_type": "code",
   "execution_count": null,
   "metadata": {},
   "outputs": [],
   "source": []
  }
 ],
 "metadata": {
  "kernelspec": {
   "display_name": "Python 3",
   "language": "python",
   "name": "python3"
  },
  "language_info": {
   "codemirror_mode": {
    "name": "ipython",
    "version": 3
   },
   "file_extension": ".py",
   "mimetype": "text/x-python",
   "name": "python",
   "nbconvert_exporter": "python",
   "pygments_lexer": "ipython3",
   "version": "3.7.3"
  }
 },
 "nbformat": 4,
 "nbformat_minor": 2
}

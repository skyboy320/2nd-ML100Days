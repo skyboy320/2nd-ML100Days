{
 "cells": [
  {
   "cell_type": "markdown",
   "metadata": {},
   "source": [
    "## Work\n",
    "1. 請嘗試寫一個 callback 用來記錄各類別在訓練過程中，對驗證集的 True Positive 與 True Negative"
   ]
  },
  {
   "cell_type": "code",
   "execution_count": 10,
   "metadata": {},
   "outputs": [],
   "source": [
    "import os\n",
    "import keras\n",
    "\n",
    "# Disable GPU\n",
    "os.environ[\"CUDA_VISIBLE_DEVICES\"] = \"\""
   ]
  },
  {
   "cell_type": "code",
   "execution_count": 11,
   "metadata": {},
   "outputs": [],
   "source": [
    "train, test = keras.datasets.cifar10.load_data()"
   ]
  },
  {
   "cell_type": "code",
   "execution_count": 12,
   "metadata": {},
   "outputs": [],
   "source": [
    "## 資料前處理\n",
    "def preproc_x(x, flatten=True):\n",
    "    x = x / 255.\n",
    "    if flatten:\n",
    "        x = x.reshape((len(x), -1))\n",
    "    return x\n",
    "\n",
    "def preproc_y(y, num_classes=10):\n",
    "    if y.shape[-1] == 1:\n",
    "        y = keras.utils.to_categorical(y, num_classes)\n",
    "    return y    "
   ]
  },
  {
   "cell_type": "code",
   "execution_count": 13,
   "metadata": {},
   "outputs": [],
   "source": [
    "x_train, y_train = train\n",
    "x_test, y_test = test\n",
    "\n",
    "# Preproc the inputs\n",
    "x_train = preproc_x(x_train)\n",
    "x_test = preproc_x(x_test)\n",
    "\n",
    "# Preprc the outputs\n",
    "y_train = preproc_y(y_train)\n",
    "y_test = preproc_y(y_test)"
   ]
  },
  {
   "cell_type": "code",
   "execution_count": 14,
   "metadata": {},
   "outputs": [],
   "source": [
    "from keras.layers import BatchNormalization\n",
    "def build_mlp(input_shape, output_units=10, num_neurons=[256, 256, 256]):\n",
    "    \"\"\"Code Here\n",
    "    建立你的神經網路\n",
    "    \"\"\"\n",
    "    input_layer = keras.layers.Input(input_shape)\n",
    "    \n",
    "    for i, n_units in enumerate(num_neurons):\n",
    "        if i == 0:\n",
    "            x = keras.layers.Dense(units=n_units, \n",
    "                                   activation=\"relu\", \n",
    "                                   name=\"hidden_layer\"+str(i+1))(input_layer)\n",
    "            x = BatchNormalization()(x)\n",
    "        else:\n",
    "            x = keras.layers.Dense(units=n_units, \n",
    "                                   activation=\"relu\", \n",
    "                                   name=\"hidden_layer\"+str(i+1))(x)\n",
    "            x = BatchNormalization()(x)\n",
    "    \n",
    "    out = keras.layers.Dense(units=output_units, activation=\"softmax\", name=\"output\")(x)\n",
    "    \n",
    "    model = keras.models.Model(inputs=[input_layer], outputs=[out])\n",
    "    return model"
   ]
  },
  {
   "cell_type": "code",
   "execution_count": 15,
   "metadata": {},
   "outputs": [],
   "source": [
    "## 超參數設定\n",
    "LEARNING_RATE = 1e-3\n",
    "EPOCHS = 25\n",
    "BATCH_SIZE = 1024\n",
    "MOMENTUM = 0.95"
   ]
  },
  {
   "cell_type": "code",
   "execution_count": 16,
   "metadata": {},
   "outputs": [],
   "source": [
    "# 載入 Callbacks\n",
    "from keras.callbacks import Callback\n",
    "import numpy as np\n",
    "\n",
    "# Record_fp_tp\n",
    "class Record_tp_tn(Callback):\n",
    "    \"\"\"Code Here\n",
    "    撰寫一個紀錄 ture positive 與 true negative 數量的 callbacks    \n",
    "    \"\"\"\n",
    "    def on_train_begin(self, epoch, logs = {}):\n",
    "        logs = logs or {}\n",
    "        record_items = [\"val_tp\", \"val_tn\"]\n",
    "        for i in record_items:\n",
    "            if i not in self.params['metrics']:\n",
    "                self.params['metrics'].append(i)\n",
    "    \n",
    "    def on_epoch_end(self, epoch, logs = {}, thres=0.5):\n",
    "        logs = logs or {}\n",
    "        y_true = self.validation_data[1].argmax(axis = 1)\n",
    "        y_pred = self.model.predict(self.validation_data[0])\n",
    "        y_pred = (y_pred[:, 1] >= thres) * 1\n",
    "        \n",
    "        logs[\"val_tp\"] = np.sum(np.logical_and(y_true == 1, y_pred == 1))\n",
    "        logs[\"val_tn\"] = np.sum(np.logical_and(y_true == 0, y_pred == 0))\n",
    "        \n",
    "rec_tptn = Record_tp_tn()"
   ]
  },
  {
   "cell_type": "code",
   "execution_count": 8,
   "metadata": {
    "scrolled": true
   },
   "outputs": [
    {
     "name": "stderr",
     "output_type": "stream",
     "text": [
      "WARNING: Logging before flag parsing goes to stderr.\n",
      "W0811 22:00:13.988031  1744 deprecation_wrapper.py:119] From C:\\Users\\Trenton\\Anaconda3\\lib\\site-packages\\keras\\backend\\tensorflow_backend.py:74: The name tf.get_default_graph is deprecated. Please use tf.compat.v1.get_default_graph instead.\n",
      "\n",
      "W0811 22:00:14.016136  1744 deprecation_wrapper.py:119] From C:\\Users\\Trenton\\Anaconda3\\lib\\site-packages\\keras\\backend\\tensorflow_backend.py:517: The name tf.placeholder is deprecated. Please use tf.compat.v1.placeholder instead.\n",
      "\n",
      "W0811 22:00:14.020199  1744 deprecation_wrapper.py:119] From C:\\Users\\Trenton\\Anaconda3\\lib\\site-packages\\keras\\backend\\tensorflow_backend.py:4138: The name tf.random_uniform is deprecated. Please use tf.random.uniform instead.\n",
      "\n",
      "W0811 22:00:14.127576  1744 deprecation_wrapper.py:119] From C:\\Users\\Trenton\\Anaconda3\\lib\\site-packages\\keras\\backend\\tensorflow_backend.py:133: The name tf.placeholder_with_default is deprecated. Please use tf.compat.v1.placeholder_with_default instead.\n",
      "\n",
      "W0811 22:00:14.572628  1744 deprecation_wrapper.py:119] From C:\\Users\\Trenton\\Anaconda3\\lib\\site-packages\\keras\\optimizers.py:790: The name tf.train.Optimizer is deprecated. Please use tf.compat.v1.train.Optimizer instead.\n",
      "\n",
      "W0811 22:00:14.579798  1744 deprecation_wrapper.py:119] From C:\\Users\\Trenton\\Anaconda3\\lib\\site-packages\\keras\\backend\\tensorflow_backend.py:3295: The name tf.log is deprecated. Please use tf.math.log instead.\n",
      "\n"
     ]
    },
    {
     "name": "stdout",
     "output_type": "stream",
     "text": [
      "_________________________________________________________________\n",
      "Layer (type)                 Output Shape              Param #   \n",
      "=================================================================\n",
      "input_1 (InputLayer)         (None, 3072)              0         \n",
      "_________________________________________________________________\n",
      "hidden_layer1 (Dense)        (None, 256)               786688    \n",
      "_________________________________________________________________\n",
      "batch_normalization_1 (Batch (None, 256)               1024      \n",
      "_________________________________________________________________\n",
      "hidden_layer2 (Dense)        (None, 256)               65792     \n",
      "_________________________________________________________________\n",
      "batch_normalization_2 (Batch (None, 256)               1024      \n",
      "_________________________________________________________________\n",
      "hidden_layer3 (Dense)        (None, 256)               65792     \n",
      "_________________________________________________________________\n",
      "batch_normalization_3 (Batch (None, 256)               1024      \n",
      "_________________________________________________________________\n",
      "output (Dense)               (None, 10)                2570      \n",
      "=================================================================\n",
      "Total params: 923,914\n",
      "Trainable params: 922,378\n",
      "Non-trainable params: 1,536\n",
      "_________________________________________________________________\n"
     ]
    },
    {
     "name": "stderr",
     "output_type": "stream",
     "text": [
      "W0811 22:00:14.789233  1744 deprecation.py:323] From C:\\Users\\Trenton\\Anaconda3\\lib\\site-packages\\tensorflow\\python\\ops\\math_grad.py:1250: add_dispatch_support.<locals>.wrapper (from tensorflow.python.ops.array_ops) is deprecated and will be removed in a future version.\n",
      "Instructions for updating:\n",
      "Use tf.where in 2.0, which has the same broadcast rule as np.where\n"
     ]
    },
    {
     "name": "stdout",
     "output_type": "stream",
     "text": [
      "Train on 50000 samples, validate on 10000 samples\n",
      "Epoch 1/25\n",
      "50000/50000 [==============================] - 11s 224us/step - loss: 2.2495 - acc: 0.2663 - val_loss: 2.2569 - val_acc: 0.2926\n",
      "Epoch 2/25\n",
      "50000/50000 [==============================] - 5s 90us/step - loss: 1.7652 - acc: 0.3896 - val_loss: 1.8123 - val_acc: 0.3723\n",
      "Epoch 3/25\n",
      "50000/50000 [==============================] - 4s 74us/step - loss: 1.6367 - acc: 0.4310 - val_loss: 1.7167 - val_acc: 0.4044\n",
      "Epoch 4/25\n",
      "50000/50000 [==============================] - 4s 78us/step - loss: 1.5620 - acc: 0.4556 - val_loss: 1.6461 - val_acc: 0.4202\n",
      "Epoch 5/25\n",
      "50000/50000 [==============================] - 5s 91us/step - loss: 1.5070 - acc: 0.4750 - val_loss: 1.5846 - val_acc: 0.4392\n",
      "Epoch 6/25\n",
      "50000/50000 [==============================] - 4s 82us/step - loss: 1.4604 - acc: 0.4916 - val_loss: 1.5707 - val_acc: 0.4428\n",
      "Epoch 7/25\n",
      "50000/50000 [==============================] - 4s 89us/step - loss: 1.4218 - acc: 0.5057 - val_loss: 1.5396 - val_acc: 0.4576\n",
      "Epoch 8/25\n",
      "50000/50000 [==============================] - 4s 88us/step - loss: 1.3903 - acc: 0.5157 - val_loss: 1.5327 - val_acc: 0.4616\n",
      "Epoch 9/25\n",
      "50000/50000 [==============================] - 4s 85us/step - loss: 1.3594 - acc: 0.5257 - val_loss: 1.5074 - val_acc: 0.4705\n",
      "Epoch 10/25\n",
      "50000/50000 [==============================] - 4s 81us/step - loss: 1.3324 - acc: 0.5350 - val_loss: 1.4977 - val_acc: 0.4692\n",
      "Epoch 11/25\n",
      "50000/50000 [==============================] - 4s 89us/step - loss: 1.3073 - acc: 0.5462 - val_loss: 1.4820 - val_acc: 0.4788\n",
      "Epoch 12/25\n",
      "50000/50000 [==============================] - 4s 85us/step - loss: 1.2841 - acc: 0.5535 - val_loss: 1.4773 - val_acc: 0.4769\n",
      "Epoch 13/25\n",
      "50000/50000 [==============================] - 4s 90us/step - loss: 1.2603 - acc: 0.5629 - val_loss: 1.4736 - val_acc: 0.4790\n",
      "Epoch 14/25\n",
      "50000/50000 [==============================] - 4s 81us/step - loss: 1.2394 - acc: 0.5719 - val_loss: 1.4650 - val_acc: 0.4856\n",
      "Epoch 15/25\n",
      "50000/50000 [==============================] - 4s 83us/step - loss: 1.2202 - acc: 0.5772 - val_loss: 1.4503 - val_acc: 0.4897\n",
      "Epoch 16/25\n",
      "50000/50000 [==============================] - 4s 84us/step - loss: 1.1989 - acc: 0.5850 - val_loss: 1.4543 - val_acc: 0.4854\n",
      "Epoch 17/25\n",
      "50000/50000 [==============================] - 4s 86us/step - loss: 1.1806 - acc: 0.5920 - val_loss: 1.4490 - val_acc: 0.4863\n",
      "Epoch 18/25\n",
      "50000/50000 [==============================] - 4s 86us/step - loss: 1.1608 - acc: 0.5993 - val_loss: 1.4387 - val_acc: 0.4944\n",
      "Epoch 19/25\n",
      "50000/50000 [==============================] - 4s 88us/step - loss: 1.1423 - acc: 0.6070 - val_loss: 1.4286 - val_acc: 0.4989\n",
      "Epoch 20/25\n",
      "50000/50000 [==============================] - 4s 86us/step - loss: 1.1243 - acc: 0.6131 - val_loss: 1.4377 - val_acc: 0.4956\n",
      "Epoch 21/25\n",
      "50000/50000 [==============================] - 4s 84us/step - loss: 1.1068 - acc: 0.6191 - val_loss: 1.4359 - val_acc: 0.4969\n",
      "Epoch 22/25\n",
      "50000/50000 [==============================] - 4s 86us/step - loss: 1.0912 - acc: 0.6255 - val_loss: 1.4289 - val_acc: 0.5007\n",
      "Epoch 23/25\n",
      "50000/50000 [==============================] - 4s 86us/step - loss: 1.0751 - acc: 0.6304 - val_loss: 1.4409 - val_acc: 0.4967\n",
      "Epoch 24/25\n",
      "50000/50000 [==============================] - 4s 85us/step - loss: 1.0559 - acc: 0.6383 - val_loss: 1.4333 - val_acc: 0.4958\n",
      "Epoch 25/25\n",
      "50000/50000 [==============================] - 4s 87us/step - loss: 1.0390 - acc: 0.6453 - val_loss: 1.4260 - val_acc: 0.4972\n"
     ]
    }
   ],
   "source": [
    "model = build_mlp(input_shape=x_train.shape[1:])\n",
    "model.summary()\n",
    "optimizer = keras.optimizers.SGD(lr=LEARNING_RATE, nesterov=True, momentum=MOMENTUM)\n",
    "model.compile(loss=\"categorical_crossentropy\", metrics=[\"accuracy\"], optimizer=optimizer)\n",
    "\n",
    "\"\"\"Code Here\n",
    "將 callbacks 放入模型訓練流程中\n",
    "\"\"\"\n",
    "model.fit(x_train, y_train, \n",
    "          epochs=EPOCHS, \n",
    "          batch_size=BATCH_SIZE, \n",
    "          validation_data=(x_test, y_test), \n",
    "          shuffle=True,\n",
    "          callbacks=[rec_tptn]\n",
    "         )\n",
    "\n",
    "\n",
    "# Collect results\n",
    "train_loss = model.history.history[\"loss\"]\n",
    "valid_loss = model.history.history[\"val_loss\"]\n",
    "train_acc = model.history.history[\"acc\"]\n",
    "valid_acc = model.history.history[\"val_acc\"]\n",
    "\n",
    "\"\"\"Code Here\n",
    "將 tp/tn 從訓練完的模型中取出\n",
    "\"\"\"\n",
    "valid_tp = model.history.history['val_tp']\n",
    "valid_tn = model.history.history['val_tn']"
   ]
  },
  {
   "cell_type": "code",
   "execution_count": 17,
   "metadata": {},
   "outputs": [
    {
     "data": {
      "image/png": "[encoded data removed]",
      "text/plain": [
       "<Figure size 432x288 with 1 Axes>"
      ]
     },
     "metadata": {
      "needs_background": "light"
     },
     "output_type": "display_data"
    },
    {
     "data": {
      "image/png": "[encoded data removed]",
      "text/plain": [
       "<Figure size 432x288 with 1 Axes>"
      ]
     },
     "metadata": {
      "needs_background": "light"
     },
     "output_type": "display_data"
    },
    {
     "data": {
      "image/png": "[encoded data removed]",
      "text/plain": [
       "<Figure size 432x288 with 1 Axes>"
      ]
     },
     "metadata": {
      "needs_background": "light"
     },
     "output_type": "display_data"
    }
   ],
   "source": [
    "import matplotlib.pyplot as plt\n",
    "%matplotlib inline\n",
    "\n",
    "plt.plot(range(len(train_loss)), train_loss, label=\"train loss\")\n",
    "plt.plot(range(len(valid_loss)), valid_loss, label=\"valid loss\")\n",
    "plt.legend()\n",
    "plt.title(\"Loss\")\n",
    "plt.show()\n",
    "\n",
    "plt.plot(range(len(train_acc)), train_acc, label=\"train accuracy\")\n",
    "plt.plot(range(len(valid_acc)), valid_acc, label=\"valid accuracy\")\n",
    "plt.legend()\n",
    "plt.title(\"Accuracy\")\n",
    "plt.show()\n",
    "\n",
    "plt.plot(range(len(valid_tp)), valid_tp, label=\"valid tp\", color=\"navy\")\n",
    "plt.plot(range(len(valid_tn)), valid_tn, label=\"valid tn\", color=\"red\")\n",
    "plt.legend()\n",
    "plt.title(\"True positives and True Negatives\")\n",
    "plt.show()\n"
   ]
  },
  {
   "cell_type": "code",
   "execution_count": null,
   "metadata": {},
   "outputs": [],
   "source": []
  }
 ],
 "metadata": {
  "kernelspec": {
   "display_name": "Python 3",
   "language": "python",
   "name": "python3"
  },
  "language_info": {
   "codemirror_mode": {
    "name": "ipython",
    "version": 3
   },
   "file_extension": ".py",
   "mimetype": "text/x-python",
   "name": "python",
   "nbconvert_exporter": "python",
   "pygments_lexer": "ipython3",
   "version": "3.7.3"
  }
 },
 "nbformat": 4,
 "nbformat_minor": 2
}

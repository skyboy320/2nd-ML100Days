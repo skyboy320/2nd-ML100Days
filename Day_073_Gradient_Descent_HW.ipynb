{
 "cells": [
  {
   "cell_type": "markdown",
   "metadata": {},
   "source": [
    "# 作業重點\n",
    "\n",
    "使用function y=(x+5)² 來練習學習率( leanrning rate ) 調整所造成的影響"
   ]
  },
  {
   "cell_type": "markdown",
   "metadata": {},
   "source": [
    "# 作業目標:\n",
    "    請嘗試使用不同的組合驗證 learning rate 對所需 iteration 的影響\n",
    "    lr = [0.1, 0.0001]\n",
    "    主要驗證 Lr 對於grandient 收斂的速度\n",
    "    "
   ]
  },
  {
   "cell_type": "code",
   "execution_count": 1,
   "metadata": {},
   "outputs": [],
   "source": [
    "cur_x = 3 # The algorithm starts at x=3\n",
    "precision = 0.000001 #This tells us when to stop the algorithm\n",
    "max_iters = 10000 # maximum number of iterations\n",
    "df = lambda x: 2*(x+5) #Gradient of our function "
   ]
  },
  {
   "cell_type": "code",
   "execution_count": 2,
   "metadata": {
    "scrolled": false
   },
   "outputs": [
    {
     "data": {
      "text/plain": [
       "'\\nwhile previous_step_size > precision and iters < max_iters:\\n\\n  算法迭代更新\\n\\nprint(\"the learning rate is\",lr, \"\\nIteration\",iters,\"\\nX value is\",cur_x) #Print iterations\\n'"
      ]
     },
     "execution_count": 2,
     "metadata": {},
     "output_type": "execute_result"
    }
   ],
   "source": [
    "'''\n",
    "需要執行初始值設定, 下列三個\n",
    "# Learning rate\n",
    "#iteration counter\n",
    "#Step size  \n",
    "'''\n",
    "'''\n",
    "while previous_step_size > precision and iters < max_iters:\n",
    "\n",
    "  算法迭代更新\n",
    "\n",
    "print(\"the learning rate is\",lr, \"\\nIteration\",iters,\"\\nX value is\",cur_x) #Print iterations\n",
    "'''"
   ]
  },
  {
   "cell_type": "code",
   "execution_count": 3,
   "metadata": {},
   "outputs": [
    {
     "name": "stdout",
     "output_type": "stream",
     "text": [
      "Iteration 1 \n",
      "X value is 1.4\n",
      "Iteration 2 \n",
      "X value is 0.11999999999999966\n",
      "Iteration 3 \n",
      "X value is -0.9040000000000001\n",
      "Iteration 4 \n",
      "X value is -1.7232000000000003\n",
      "Iteration 5 \n",
      "X value is -2.3785600000000002\n",
      "Iteration 6 \n",
      "X value is -2.902848\n",
      "Iteration 7 \n",
      "X value is -3.3222784\n",
      "Iteration 8 \n",
      "X value is -3.65782272\n",
      "Iteration 9 \n",
      "X value is -3.926258176\n",
      "Iteration 10 \n",
      "X value is -4.1410065408\n",
      "Iteration 11 \n",
      "X value is -4.312805232640001\n",
      "Iteration 12 \n",
      "X value is -4.450244186112\n",
      "Iteration 13 \n",
      "X value is -4.5601953488896\n",
      "Iteration 14 \n",
      "X value is -4.64815627911168\n",
      "Iteration 15 \n",
      "X value is -4.718525023289343\n",
      "Iteration 16 \n",
      "X value is -4.774820018631475\n",
      "Iteration 17 \n",
      "X value is -4.81985601490518\n",
      "Iteration 18 \n",
      "X value is -4.855884811924144\n",
      "Iteration 19 \n",
      "X value is -4.884707849539315\n",
      "Iteration 20 \n",
      "X value is -4.907766279631452\n",
      "Iteration 21 \n",
      "X value is -4.926213023705161\n",
      "Iteration 22 \n",
      "X value is -4.940970418964129\n",
      "Iteration 23 \n",
      "X value is -4.952776335171303\n",
      "Iteration 24 \n",
      "X value is -4.962221068137042\n",
      "Iteration 25 \n",
      "X value is -4.969776854509634\n",
      "Iteration 26 \n",
      "X value is -4.9758214836077075\n",
      "Iteration 27 \n",
      "X value is -4.980657186886166\n",
      "Iteration 28 \n",
      "X value is -4.984525749508933\n",
      "Iteration 29 \n",
      "X value is -4.987620599607146\n",
      "Iteration 30 \n",
      "X value is -4.990096479685716\n",
      "Iteration 31 \n",
      "X value is -4.992077183748573\n",
      "Iteration 32 \n",
      "X value is -4.993661746998859\n",
      "Iteration 33 \n",
      "X value is -4.994929397599087\n",
      "Iteration 34 \n",
      "X value is -4.99594351807927\n",
      "Iteration 35 \n",
      "X value is -4.996754814463416\n",
      "Iteration 36 \n",
      "X value is -4.997403851570732\n",
      "Iteration 37 \n",
      "X value is -4.997923081256586\n",
      "Iteration 38 \n",
      "X value is -4.9983384650052685\n",
      "Iteration 39 \n",
      "X value is -4.998670772004215\n",
      "Iteration 40 \n",
      "X value is -4.998936617603372\n",
      "Iteration 41 \n",
      "X value is -4.999149294082697\n",
      "Iteration 42 \n",
      "X value is -4.999319435266157\n",
      "Iteration 43 \n",
      "X value is -4.999455548212926\n",
      "Iteration 44 \n",
      "X value is -4.99956443857034\n",
      "Iteration 45 \n",
      "X value is -4.999651550856273\n",
      "Iteration 46 \n",
      "X value is -4.999721240685018\n",
      "Iteration 47 \n",
      "X value is -4.999776992548014\n",
      "Iteration 48 \n",
      "X value is -4.999821594038411\n",
      "Iteration 49 \n",
      "X value is -4.999857275230729\n",
      "Iteration 50 \n",
      "X value is -4.999885820184583\n",
      "Iteration 51 \n",
      "X value is -4.999908656147666\n",
      "Iteration 52 \n",
      "X value is -4.9999269249181335\n",
      "Iteration 53 \n",
      "X value is -4.999941539934507\n",
      "Iteration 54 \n",
      "X value is -4.999953231947606\n",
      "Iteration 55 \n",
      "X value is -4.999962585558085\n",
      "Iteration 56 \n",
      "X value is -4.999970068446467\n",
      "Iteration 57 \n",
      "X value is -4.999976054757174\n",
      "Iteration 58 \n",
      "X value is -4.999980843805739\n",
      "Iteration 59 \n",
      "X value is -4.999984675044591\n",
      "Iteration 60 \n",
      "X value is -4.999987740035673\n",
      "Iteration 61 \n",
      "X value is -4.999990192028538\n",
      "Iteration 62 \n",
      "X value is -4.999992153622831\n",
      "Iteration 63 \n",
      "X value is -4.999993722898265\n",
      "Iteration 64 \n",
      "X value is -4.999994978318612\n",
      "Iteration 65 \n",
      "X value is -4.999995982654889\n",
      "Iteration 66 \n",
      "X value is -4.999996786123911\n"
     ]
    }
   ],
   "source": [
    "lr = 0.1# Learning rate\n",
    "iters = 0  #iteration counter\n",
    "previous_step_size = 1 #Step size  \n",
    "\n",
    "iters_history = [iters]\n",
    "x_history = [cur_x]\n",
    "while previous_step_size > precision and iters < max_iters:\n",
    "    prev_x = cur_x #Store current x value in prev_x\n",
    "    cur_x = cur_x - lr * df(prev_x) #Gradient descent\n",
    "    previous_step_size = abs(cur_x - prev_x) # 取較大的值, Change in x\n",
    "    iters = iters+1 #iteration count\n",
    "    print(\"Iteration\",iters,\"\\nX value is\",cur_x) #Print iterations\n",
    "     # Store parameters for plotting\n",
    "    iters_history.append(iters)\n",
    "    x_history.append(cur_x)"
   ]
  },
  {
   "cell_type": "code",
   "execution_count": 4,
   "metadata": {},
   "outputs": [
    {
     "name": "stdout",
     "output_type": "stream",
     "text": [
      "Totally iteations:  66\n",
      "The local minimum occurs at -4.999996786123911\n"
     ]
    }
   ],
   "source": [
    "print(\"Totally iteations: \", iters)\n",
    "print(\"The local minimum occurs at\", cur_x)"
   ]
  },
  {
   "cell_type": "code",
   "execution_count": 5,
   "metadata": {},
   "outputs": [
    {
     "data": {
      "image/png": "[encoded data removed]",
      "text/plain": [
       "<Figure size 432x288 with 1 Axes>"
      ]
     },
     "metadata": {
      "needs_background": "light"
     },
     "output_type": "display_data"
    }
   ],
   "source": [
    "import matplotlib.pyplot as plt\n",
    "%matplotlib inline \n",
    "#適用於 Jupyter Notebook, 宣告直接在cell 內印出執行結果\n",
    "\n",
    "plt.plot(iters_history, x_history, 'o-', ms=3, lw=1.5, color='black')\n",
    "plt.xlabel(r'$iters$', fontsize=16)\n",
    "plt.ylabel(r'$x$', fontsize=16)\n",
    "plt.show()"
   ]
  },
  {
   "cell_type": "code",
   "execution_count": 6,
   "metadata": {},
   "outputs": [
    {
     "name": "stdout",
     "output_type": "stream",
     "text": [
      "Iteration 1 \n",
      "X value is -4.999996786766687\n"
     ]
    }
   ],
   "source": [
    "lr = 0.0001# Learning rate\n",
    "iters = 0  #iteration counter\n",
    "previous_step_size = 1 #Step size  \n",
    "\n",
    "iters_history = [iters]\n",
    "x_history = [cur_x]\n",
    "while previous_step_size > precision and iters < max_iters:\n",
    "    prev_x = cur_x #Store current x value in prev_x\n",
    "    cur_x = cur_x - lr * df(prev_x) #Gradient descent\n",
    "    previous_step_size = abs(cur_x - prev_x) # 取較大的值, Change in x\n",
    "    iters = iters+1 #iteration count\n",
    "    print(\"Iteration\",iters,\"\\nX value is\",cur_x) #Print iterations\n",
    "     # Store parameters for plotting\n",
    "    iters_history.append(iters)\n",
    "    x_history.append(cur_x)"
   ]
  },
  {
   "cell_type": "code",
   "execution_count": 7,
   "metadata": {},
   "outputs": [
    {
     "name": "stdout",
     "output_type": "stream",
     "text": [
      "Totally iteations:  1\n",
      "The local minimum occurs at -4.999996786766687\n"
     ]
    }
   ],
   "source": [
    "print(\"Totally iteations: \", iters)\n",
    "print(\"The local minimum occurs at\", cur_x)"
   ]
  },
  {
   "cell_type": "code",
   "execution_count": 8,
   "metadata": {},
   "outputs": [
    {
     "data": {
      "image/png": "[encoded data removed]",
      "text/plain": [
       "<Figure size 432x288 with 1 Axes>"
      ]
     },
     "metadata": {
      "needs_background": "light"
     },
     "output_type": "display_data"
    }
   ],
   "source": [
    "plt.plot(iters_history, x_history, 'o-', ms=3, lw=1.5, color='black')\n",
    "plt.xlabel(r'$iters$', fontsize=16)\n",
    "plt.ylabel(r'$x$', fontsize=16)\n",
    "plt.show()"
   ]
  },
  {
   "cell_type": "code",
   "execution_count": null,
   "metadata": {},
   "outputs": [],
   "source": []
  }
 ],
 "metadata": {
  "kernelspec": {
   "display_name": "Python 3",
   "language": "python",
   "name": "python3"
  },
  "language_info": {
   "codemirror_mode": {
    "name": "ipython",
    "version": 3
   },
   "file_extension": ".py",
   "mimetype": "text/x-python",
   "name": "python",
   "nbconvert_exporter": "python",
   "pygments_lexer": "ipython3",
   "version": "3.7.3"
  }
 },
 "nbformat": 4,
 "nbformat_minor": 2
}

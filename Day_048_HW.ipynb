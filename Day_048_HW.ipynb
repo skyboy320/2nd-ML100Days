{
 "cells": [
  {
   "cell_type": "code",
   "execution_count": 28,
   "metadata": {},
   "outputs": [],
   "source": [
    "import numpy as np \n",
    "import pandas as pd\n",
    "from sklearn.metrics import accuracy_score \n",
    "from sklearn.model_selection import cross_val_score"
   ]
  },
  {
   "cell_type": "code",
   "execution_count": 29,
   "metadata": {},
   "outputs": [],
   "source": [
    "#test_data = pd.read_csv('C:/Users/Trenton/Documents/GitHub/2nd-ML100Days/data-science-london-scikit-learn/test.csv',header = None)\n",
    "#train_data = pd.read_csv('C:/Users/Trenton/Documents/GitHub/2nd-ML100Days/data-science-london-scikit-learn/train.csv',header = None)\n",
    "#trainLabels_data =  pd.read_csv('C:/Users/Trenton/Documents/GitHub/2nd-ML100Days/data-science-london-scikit-learn/trainLabels.csv',header = None)\n",
    "test_data = pd.read_csv('D:/WinPython-64bit-3.5.3.1Qt5/WPy64-3680/notebooks/docs/Python Marathon/data-science-london-scikit-learn/test.csv',header = None)\n",
    "train_data = pd.read_csv('D:/WinPython-64bit-3.5.3.1Qt5/WPy64-3680/notebooks/docs/Python Marathon/data-science-london-scikit-learn/train.csv',header = None)\n",
    "trainLabels_data =  pd.read_csv('D:/WinPython-64bit-3.5.3.1Qt5/WPy64-3680/notebooks/docs/Python Marathon/data-science-london-scikit-learn/trainLabels.csv',header = None)\n"
   ]
  },
  {
   "cell_type": "code",
   "execution_count": 30,
   "metadata": {},
   "outputs": [
    {
     "name": "stdout",
     "output_type": "stream",
     "text": [
      "test_data.shape: (9000, 40)\n",
      "train_data.shape: (1000, 40)\n",
      "trainLabels.shape: (1000, 1)\n"
     ]
    }
   ],
   "source": [
    "#train_data\n",
    "\n",
    "print('test_data.shape:', test_data.shape)\n",
    "print('train_data.shape:', train_data.shape)\n",
    "print('trainLabels.shape:', trainLabels_data.shape)\n",
    "      "
   ]
  },
  {
   "cell_type": "code",
   "execution_count": 38,
   "metadata": {},
   "outputs": [
    {
     "data": {
      "text/plain": [
       "((700, 40), (300, 40), (700, 1), (300, 1))"
      ]
     },
     "execution_count": 38,
     "metadata": {},
     "output_type": "execute_result"
    }
   ],
   "source": [
    "#train testing data\n",
    "from sklearn.model_selection import train_test_split\n",
    "from sklearn import datasets, metrics\n",
    "from sklearn.ensemble import GradientBoostingClassifier\n",
    "x_train,x_test,y_train,y_test = train_test_split(train_data,trainLabels_data, test_size = 0.30, random_state = 4)\n",
    "x_train.shape, x_test.shape, y_train.shape, y_test.shape"
   ]
  },
  {
   "cell_type": "code",
   "execution_count": 45,
   "metadata": {},
   "outputs": [
    {
     "name": "stdout",
     "output_type": "stream",
     "text": [
      "Acuuracy:  0.8933333333333333\n"
     ]
    }
   ],
   "source": [
    "#GradientBoostingClassifier\n",
    "# 建立模型\n",
    "clf = GradientBoostingClassifier()\n",
    "\n",
    "# 訓練模型\n",
    "clf.fit(x_train, y_train.values.ravel())\n",
    "\n",
    "# 預測測試集\n",
    "y_pred = clf.predict(x_test)\n",
    "y_pred.shape\n",
    "#y_train.shape\n",
    "#x_train.shape\n",
    "\n",
    "acc = metrics.accuracy_score(y_test, y_pred)\n",
    "print(\"Acuuracy: \", acc)\n",
    "#y_pred.shape"
   ]
  },
  {
   "cell_type": "code",
   "execution_count": 51,
   "metadata": {},
   "outputs": [
    {
     "data": {
      "text/plain": [
       "(9000,)"
      ]
     },
     "execution_count": 51,
     "metadata": {},
     "output_type": "execute_result"
    }
   ],
   "source": [
    "y_predall = clf.predict(test_data)\n",
    "y_predall.shape\n",
    "#print(y_predall)\n",
    "#y_predall"
   ]
  },
  {
   "cell_type": "code",
   "execution_count": 52,
   "metadata": {},
   "outputs": [],
   "source": [
    "#y_train.values.ravel()\n",
    "GB_clf_pred = pd.DataFrame(y_predall)\n",
    "#GB_clf_pred.index += 1\n",
    "\n",
    "GB_clf_pred.columns = ['Solution']\n",
    "#GB_clf_pred.shape[0]\n",
    "GB_clf_pred['Id'] = np.arange(1,GB_clf_pred.shape[0]+1) #shape[0]+1是為了取到300，因為arrage[start,stop,step], 其中stop是到stop-1\n",
    "#GB_clf_pred['Id'] = np.arange(1,GB_clf_pred.shape[0]+1)\n",
    "#GB_clf_pred\n",
    "GB_clf_pred = GB_clf_pred[['Id', 'Solution']] #挑順序 把Id放在最前面\n",
    "#GB_clf_pred\n",
    "GB_clf_pred.to_csv('Submission_GB_clf_all.csv',index=False)"
   ]
  },
  {
   "cell_type": "code",
   "execution_count": null,
   "metadata": {},
   "outputs": [],
   "source": []
  }
 ],
 "metadata": {
  "kernelspec": {
   "display_name": "Python 3",
   "language": "python",
   "name": "python3"
  },
  "language_info": {
   "codemirror_mode": {
    "name": "ipython",
    "version": 3
   },
   "file_extension": ".py",
   "mimetype": "text/x-python",
   "name": "python",
   "nbconvert_exporter": "python",
   "pygments_lexer": "ipython3",
   "version": "3.7.3"
  }
 },
 "nbformat": 4,
 "nbformat_minor": 2
}
